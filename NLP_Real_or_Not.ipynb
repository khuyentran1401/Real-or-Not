{
 "cells": [
  {
   "cell_type": "markdown",
   "metadata": {},
   "source": [
    "# Data Exploration"
   ]
  },
  {
   "cell_type": "code",
   "execution_count": 1,
   "metadata": {
    "_cell_guid": "b1076dfc-b9ad-4769-8c92-a6c4dae69d19",
    "_uuid": "8f2839f25d086af736a60e9eeb907d3b93b6e0e5",
    "colab": {},
    "colab_type": "code",
    "id": "9O13Jg03_DHl"
   },
   "outputs": [],
   "source": [
    "import numpy as np \n",
    "import pandas as pd \n",
    "import os"
   ]
  },
  {
   "cell_type": "code",
   "execution_count": 4,
   "metadata": {
    "_cell_guid": "79c7e3d0-c299-4dcb-8224-4455121ee9b0",
    "_uuid": "d629ff2d2480ee46fbb7e2d37f6b5fab8052498a",
    "colab": {
     "base_uri": "https://localhost:8080/",
     "height": 297
    },
    "colab_type": "code",
    "id": "HlFQZyUd_DIc",
    "outputId": "d3a03032-ea9d-405b-94b2-47684da706f6"
   },
   "outputs": [
    {
     "data": {
      "text/html": [
       "<div>\n",
       "<style scoped>\n",
       "    .dataframe tbody tr th:only-of-type {\n",
       "        vertical-align: middle;\n",
       "    }\n",
       "\n",
       "    .dataframe tbody tr th {\n",
       "        vertical-align: top;\n",
       "    }\n",
       "\n",
       "    .dataframe thead th {\n",
       "        text-align: right;\n",
       "    }\n",
       "</style>\n",
       "<table border=\"1\" class=\"dataframe\">\n",
       "  <thead>\n",
       "    <tr style=\"text-align: right;\">\n",
       "      <th></th>\n",
       "      <th>id</th>\n",
       "      <th>target</th>\n",
       "    </tr>\n",
       "  </thead>\n",
       "  <tbody>\n",
       "    <tr>\n",
       "      <th>count</th>\n",
       "      <td>7613.000000</td>\n",
       "      <td>7613.00000</td>\n",
       "    </tr>\n",
       "    <tr>\n",
       "      <th>mean</th>\n",
       "      <td>5441.934848</td>\n",
       "      <td>0.42966</td>\n",
       "    </tr>\n",
       "    <tr>\n",
       "      <th>std</th>\n",
       "      <td>3137.116090</td>\n",
       "      <td>0.49506</td>\n",
       "    </tr>\n",
       "    <tr>\n",
       "      <th>min</th>\n",
       "      <td>1.000000</td>\n",
       "      <td>0.00000</td>\n",
       "    </tr>\n",
       "    <tr>\n",
       "      <th>25%</th>\n",
       "      <td>2734.000000</td>\n",
       "      <td>0.00000</td>\n",
       "    </tr>\n",
       "    <tr>\n",
       "      <th>50%</th>\n",
       "      <td>5408.000000</td>\n",
       "      <td>0.00000</td>\n",
       "    </tr>\n",
       "    <tr>\n",
       "      <th>75%</th>\n",
       "      <td>8146.000000</td>\n",
       "      <td>1.00000</td>\n",
       "    </tr>\n",
       "    <tr>\n",
       "      <th>max</th>\n",
       "      <td>10873.000000</td>\n",
       "      <td>1.00000</td>\n",
       "    </tr>\n",
       "  </tbody>\n",
       "</table>\n",
       "</div>"
      ],
      "text/plain": [
       "                 id      target\n",
       "count   7613.000000  7613.00000\n",
       "mean    5441.934848     0.42966\n",
       "std     3137.116090     0.49506\n",
       "min        1.000000     0.00000\n",
       "25%     2734.000000     0.00000\n",
       "50%     5408.000000     0.00000\n",
       "75%     8146.000000     1.00000\n",
       "max    10873.000000     1.00000"
      ]
     },
     "execution_count": 4,
     "metadata": {},
     "output_type": "execute_result"
    }
   ],
   "source": [
    "train = pd.read_csv('train.csv')\n",
    "test = pd.read_csv('test.csv')\n",
    "train.describe()"
   ]
  },
  {
   "cell_type": "code",
   "execution_count": 5,
   "metadata": {
    "colab": {
     "base_uri": "https://localhost:8080/",
     "height": 34
    },
    "colab_type": "code",
    "id": "z-DJk3q_Fpx3",
    "outputId": "3b22321b-ad43-42b9-ae34-92c34ed63737"
   },
   "outputs": [
    {
     "data": {
      "text/plain": [
       "0"
      ]
     },
     "execution_count": 5,
     "metadata": {},
     "output_type": "execute_result"
    }
   ],
   "source": [
    "test[\"id\"][0]"
   ]
  },
  {
   "cell_type": "code",
   "execution_count": 6,
   "metadata": {
    "colab": {
     "base_uri": "https://localhost:8080/",
     "height": 221
    },
    "colab_type": "code",
    "id": "GTo8oJGt_DJH",
    "outputId": "5eed6391-847b-4a77-a67a-e09ec921412b"
   },
   "outputs": [
    {
     "name": "stdout",
     "output_type": "stream",
     "text": [
      "<class 'pandas.core.frame.DataFrame'>\n",
      "RangeIndex: 7613 entries, 0 to 7612\n",
      "Data columns (total 5 columns):\n",
      "id          7613 non-null int64\n",
      "keyword     7552 non-null object\n",
      "location    5080 non-null object\n",
      "text        7613 non-null object\n",
      "target      7613 non-null int64\n",
      "dtypes: int64(2), object(3)\n",
      "memory usage: 297.5+ KB\n"
     ]
    }
   ],
   "source": [
    "train.info()"
   ]
  },
  {
   "cell_type": "code",
   "execution_count": 7,
   "metadata": {
    "colab": {
     "base_uri": "https://localhost:8080/",
     "height": 204
    },
    "colab_type": "code",
    "id": "WXr32RSf_DJ2",
    "outputId": "06c67332-53ca-4870-8abe-3ea70ab1a03d"
   },
   "outputs": [
    {
     "name": "stdout",
     "output_type": "stream",
     "text": [
      "<class 'pandas.core.frame.DataFrame'>\n",
      "RangeIndex: 3263 entries, 0 to 3262\n",
      "Data columns (total 4 columns):\n",
      "id          3263 non-null int64\n",
      "keyword     3237 non-null object\n",
      "location    2158 non-null object\n",
      "text        3263 non-null object\n",
      "dtypes: int64(1), object(3)\n",
      "memory usage: 102.0+ KB\n"
     ]
    }
   ],
   "source": [
    "test.info()"
   ]
  },
  {
   "cell_type": "code",
   "execution_count": 8,
   "metadata": {
    "colab": {
     "base_uri": "https://localhost:8080/",
     "height": 359
    },
    "colab_type": "code",
    "id": "Dk3DVPjV_DJ_",
    "outputId": "9edb2e74-ecbd-4086-8dc9-3a059f2be892"
   },
   "outputs": [
    {
     "data": {
      "text/html": [
       "<div>\n",
       "<style scoped>\n",
       "    .dataframe tbody tr th:only-of-type {\n",
       "        vertical-align: middle;\n",
       "    }\n",
       "\n",
       "    .dataframe tbody tr th {\n",
       "        vertical-align: top;\n",
       "    }\n",
       "\n",
       "    .dataframe thead th {\n",
       "        text-align: right;\n",
       "    }\n",
       "</style>\n",
       "<table border=\"1\" class=\"dataframe\">\n",
       "  <thead>\n",
       "    <tr style=\"text-align: right;\">\n",
       "      <th></th>\n",
       "      <th>id</th>\n",
       "      <th>keyword</th>\n",
       "      <th>location</th>\n",
       "      <th>text</th>\n",
       "      <th>target</th>\n",
       "    </tr>\n",
       "  </thead>\n",
       "  <tbody>\n",
       "    <tr>\n",
       "      <th>0</th>\n",
       "      <td>1</td>\n",
       "      <td>NaN</td>\n",
       "      <td>NaN</td>\n",
       "      <td>Our Deeds are the Reason of this #earthquake M...</td>\n",
       "      <td>1</td>\n",
       "    </tr>\n",
       "    <tr>\n",
       "      <th>1</th>\n",
       "      <td>4</td>\n",
       "      <td>NaN</td>\n",
       "      <td>NaN</td>\n",
       "      <td>Forest fire near La Ronge Sask. Canada</td>\n",
       "      <td>1</td>\n",
       "    </tr>\n",
       "    <tr>\n",
       "      <th>2</th>\n",
       "      <td>5</td>\n",
       "      <td>NaN</td>\n",
       "      <td>NaN</td>\n",
       "      <td>All residents asked to 'shelter in place' are ...</td>\n",
       "      <td>1</td>\n",
       "    </tr>\n",
       "    <tr>\n",
       "      <th>3</th>\n",
       "      <td>6</td>\n",
       "      <td>NaN</td>\n",
       "      <td>NaN</td>\n",
       "      <td>13,000 people receive #wildfires evacuation or...</td>\n",
       "      <td>1</td>\n",
       "    </tr>\n",
       "    <tr>\n",
       "      <th>4</th>\n",
       "      <td>7</td>\n",
       "      <td>NaN</td>\n",
       "      <td>NaN</td>\n",
       "      <td>Just got sent this photo from Ruby #Alaska as ...</td>\n",
       "      <td>1</td>\n",
       "    </tr>\n",
       "    <tr>\n",
       "      <th>5</th>\n",
       "      <td>8</td>\n",
       "      <td>NaN</td>\n",
       "      <td>NaN</td>\n",
       "      <td>#RockyFire Update =&gt; California Hwy. 20 closed...</td>\n",
       "      <td>1</td>\n",
       "    </tr>\n",
       "    <tr>\n",
       "      <th>6</th>\n",
       "      <td>10</td>\n",
       "      <td>NaN</td>\n",
       "      <td>NaN</td>\n",
       "      <td>#flood #disaster Heavy rain causes flash flood...</td>\n",
       "      <td>1</td>\n",
       "    </tr>\n",
       "    <tr>\n",
       "      <th>7</th>\n",
       "      <td>13</td>\n",
       "      <td>NaN</td>\n",
       "      <td>NaN</td>\n",
       "      <td>I'm on top of the hill and I can see a fire in...</td>\n",
       "      <td>1</td>\n",
       "    </tr>\n",
       "    <tr>\n",
       "      <th>8</th>\n",
       "      <td>14</td>\n",
       "      <td>NaN</td>\n",
       "      <td>NaN</td>\n",
       "      <td>There's an emergency evacuation happening now ...</td>\n",
       "      <td>1</td>\n",
       "    </tr>\n",
       "    <tr>\n",
       "      <th>9</th>\n",
       "      <td>15</td>\n",
       "      <td>NaN</td>\n",
       "      <td>NaN</td>\n",
       "      <td>I'm afraid that the tornado is coming to our a...</td>\n",
       "      <td>1</td>\n",
       "    </tr>\n",
       "  </tbody>\n",
       "</table>\n",
       "</div>"
      ],
      "text/plain": [
       "   id keyword location                                               text  \\\n",
       "0   1     NaN      NaN  Our Deeds are the Reason of this #earthquake M...   \n",
       "1   4     NaN      NaN             Forest fire near La Ronge Sask. Canada   \n",
       "2   5     NaN      NaN  All residents asked to 'shelter in place' are ...   \n",
       "3   6     NaN      NaN  13,000 people receive #wildfires evacuation or...   \n",
       "4   7     NaN      NaN  Just got sent this photo from Ruby #Alaska as ...   \n",
       "5   8     NaN      NaN  #RockyFire Update => California Hwy. 20 closed...   \n",
       "6  10     NaN      NaN  #flood #disaster Heavy rain causes flash flood...   \n",
       "7  13     NaN      NaN  I'm on top of the hill and I can see a fire in...   \n",
       "8  14     NaN      NaN  There's an emergency evacuation happening now ...   \n",
       "9  15     NaN      NaN  I'm afraid that the tornado is coming to our a...   \n",
       "\n",
       "   target  \n",
       "0       1  \n",
       "1       1  \n",
       "2       1  \n",
       "3       1  \n",
       "4       1  \n",
       "5       1  \n",
       "6       1  \n",
       "7       1  \n",
       "8       1  \n",
       "9       1  "
      ]
     },
     "execution_count": 8,
     "metadata": {},
     "output_type": "execute_result"
    }
   ],
   "source": [
    "train.head(10)"
   ]
  },
  {
   "cell_type": "code",
   "execution_count": 9,
   "metadata": {
    "colab": {
     "base_uri": "https://localhost:8080/",
     "height": 221
    },
    "colab_type": "code",
    "id": "3wayzA2V_DKl",
    "outputId": "0ebf1e32-024f-4c16-95ed-5a40672f445c"
   },
   "outputs": [
    {
     "data": {
      "text/plain": [
       "15                                         What's up man?\n",
       "16                                          I love fruits\n",
       "17                                       Summer is lovely\n",
       "18                                      My car is so fast\n",
       "19                           What a goooooooaaaaaal!!!!!!\n",
       "20                                 this is ridiculous....\n",
       "21                                      London is cool ;)\n",
       "22                                            Love skiing\n",
       "23                                  What a wonderful day!\n",
       "24                                               LOOOOOOL\n",
       "25                         No way...I can't eat that shit\n",
       "26                                  Was in NYC last week!\n",
       "27                                     Love my girlfriend\n",
       "28                                              Cooool :)\n",
       "29                                     Do you like pasta?\n",
       "30                                               The end!\n",
       "32      We always try to bring the heavy. #metal #RT h...\n",
       "34                     Crying out for more! Set me ablaze\n",
       "35      On plus side LOOK AT THE SKY LAST NIGHT IT WAS...\n",
       "36      @PhDSquares #mufc they've built so much hype a...\n",
       "39                                 Ablaze for you Lord :D\n",
       "40      Check these out: http://t.co/rOI2NSmEJJ http:/...\n",
       "41      on the outside you're ablaze and alive\\nbut yo...\n",
       "42      Had an awesome time visiting the CFC head offi...\n",
       "43           SOOOO PUMPED FOR ABLAZE ???? @southridgelife\n",
       "44      I wanted to set Chicago ablaze with my preachi...\n",
       "45      I gained 3 followers in the last week. You? Kn...\n",
       "47      Building the perfect tracklist to life leave t...\n",
       "48      Check these out: http://t.co/rOI2NSmEJJ http:/...\n",
       "49      First night with retainers in. It's quite weir...\n",
       "                              ...                        \n",
       "7554    James Kunstler: How bad architecture wrecked c...\n",
       "7555    http://t.co/DeQQOpSP4f: Iger's 3 words that wr...\n",
       "7556       The Twitter update pretty much wrecked the app\n",
       "7557    You wrecked me. Never felt so low in my life. ...\n",
       "7558             coleslaw #wrecked http://t.co/sijNBmCZIJ\n",
       "7560               The twins pitcher's ego is now WRECKED\n",
       "7561                        @Tunes_WGG lol. U got wrecked\n",
       "7562                           you wrecked my whole world\n",
       "7563                            I wrecked my stomach help\n",
       "7564    @__ohhmyjoshh @stevenrulles he not gonna be th...\n",
       "7565     Wrecked tired but not gonna be asleep before 3??\n",
       "7566    http://t.co/qVx0VQTPz0 Cramer: Iger's 3 words ...\n",
       "7567                                    Wrecked emotions.\n",
       "7568    The Riddler would be the best early-exit prima...\n",
       "7569    @marynmck That's beyond adorable. I hope it wo...\n",
       "7570    Cramer: Iger's 3 words that wrecked Disney's s...\n",
       "7571    @Caitsroberts see U the night wee bArra to get...\n",
       "7573    Had an awesome time gettin wrecked at bowling ...\n",
       "7574    Cramer: 3 words that wrecked DIS stock - http:...\n",
       "7575    On the bright side I wrecked http://t.co/uEa0t...\n",
       "7576    He just wrecked all of you http://t.co/y46isyZkC8\n",
       "7577    @widda16 ... He's gone. You can relax. I thoug...\n",
       "7578     @jt_ruff23 @cameronhacker and I wrecked you both\n",
       "7579    Three days off from work and they've pretty mu...\n",
       "7580    #FX #forex #trading Cramer: Iger's 3 words tha...\n",
       "7581    @engineshed Great atmosphere at the British Li...\n",
       "7582    Cramer: Iger's 3 words that wrecked Disney's s...\n",
       "7584    These boxes are ready to explode! Exploding Ki...\n",
       "7587                                   Sirens everywhere!\n",
       "7593    I just heard a really loud bang and everyone i...\n",
       "Name: text, Length: 4342, dtype: object"
      ]
     },
     "execution_count": 9,
     "metadata": {},
     "output_type": "execute_result"
    }
   ],
   "source": [
    "train[train['target']==0]['text']"
   ]
  },
  {
   "cell_type": "code",
   "execution_count": 10,
   "metadata": {
    "colab_type": "raw",
    "id": "6GmPcqdV_DKs"
   },
   "outputs": [
    {
     "data": {
      "text/plain": [
       "'Our Deeds are the Reason of this #earthquake May ALLAH Forgive us all'"
      ]
     },
     "execution_count": 10,
     "metadata": {},
     "output_type": "execute_result"
    }
   ],
   "source": [
    "train['text'][0]"
   ]
  },
  {
   "cell_type": "code",
   "execution_count": 11,
   "metadata": {
    "colab": {
     "base_uri": "https://localhost:8080/",
     "height": 359
    },
    "colab_type": "code",
    "id": "qjZ2EI1M_DKt",
    "outputId": "7ab5c602-980e-4662-af3f-e0956c4ea9a4"
   },
   "outputs": [
    {
     "data": {
      "text/html": [
       "<div>\n",
       "<style scoped>\n",
       "    .dataframe tbody tr th:only-of-type {\n",
       "        vertical-align: middle;\n",
       "    }\n",
       "\n",
       "    .dataframe tbody tr th {\n",
       "        vertical-align: top;\n",
       "    }\n",
       "\n",
       "    .dataframe thead th {\n",
       "        text-align: right;\n",
       "    }\n",
       "</style>\n",
       "<table border=\"1\" class=\"dataframe\">\n",
       "  <thead>\n",
       "    <tr style=\"text-align: right;\">\n",
       "      <th></th>\n",
       "      <th>id</th>\n",
       "      <th>keyword</th>\n",
       "      <th>location</th>\n",
       "      <th>text</th>\n",
       "      <th>target</th>\n",
       "    </tr>\n",
       "  </thead>\n",
       "  <tbody>\n",
       "    <tr>\n",
       "      <th>32</th>\n",
       "      <td>49</td>\n",
       "      <td>ablaze</td>\n",
       "      <td>Est. September 2012 - Bristol</td>\n",
       "      <td>We always try to bring the heavy. #metal #RT h...</td>\n",
       "      <td>0</td>\n",
       "    </tr>\n",
       "    <tr>\n",
       "      <th>34</th>\n",
       "      <td>52</td>\n",
       "      <td>ablaze</td>\n",
       "      <td>Philadelphia, PA</td>\n",
       "      <td>Crying out for more! Set me ablaze</td>\n",
       "      <td>0</td>\n",
       "    </tr>\n",
       "    <tr>\n",
       "      <th>35</th>\n",
       "      <td>53</td>\n",
       "      <td>ablaze</td>\n",
       "      <td>London, UK</td>\n",
       "      <td>On plus side LOOK AT THE SKY LAST NIGHT IT WAS...</td>\n",
       "      <td>0</td>\n",
       "    </tr>\n",
       "    <tr>\n",
       "      <th>36</th>\n",
       "      <td>54</td>\n",
       "      <td>ablaze</td>\n",
       "      <td>Pretoria</td>\n",
       "      <td>@PhDSquares #mufc they've built so much hype a...</td>\n",
       "      <td>0</td>\n",
       "    </tr>\n",
       "    <tr>\n",
       "      <th>39</th>\n",
       "      <td>57</td>\n",
       "      <td>ablaze</td>\n",
       "      <td>Paranaque City</td>\n",
       "      <td>Ablaze for you Lord :D</td>\n",
       "      <td>0</td>\n",
       "    </tr>\n",
       "    <tr>\n",
       "      <th>40</th>\n",
       "      <td>59</td>\n",
       "      <td>ablaze</td>\n",
       "      <td>Live On Webcam</td>\n",
       "      <td>Check these out: http://t.co/rOI2NSmEJJ http:/...</td>\n",
       "      <td>0</td>\n",
       "    </tr>\n",
       "    <tr>\n",
       "      <th>41</th>\n",
       "      <td>61</td>\n",
       "      <td>ablaze</td>\n",
       "      <td>NaN</td>\n",
       "      <td>on the outside you're ablaze and alive\\nbut yo...</td>\n",
       "      <td>0</td>\n",
       "    </tr>\n",
       "    <tr>\n",
       "      <th>42</th>\n",
       "      <td>62</td>\n",
       "      <td>ablaze</td>\n",
       "      <td>milky way</td>\n",
       "      <td>Had an awesome time visiting the CFC head offi...</td>\n",
       "      <td>0</td>\n",
       "    </tr>\n",
       "    <tr>\n",
       "      <th>43</th>\n",
       "      <td>63</td>\n",
       "      <td>ablaze</td>\n",
       "      <td>NaN</td>\n",
       "      <td>SOOOO PUMPED FOR ABLAZE ???? @southridgelife</td>\n",
       "      <td>0</td>\n",
       "    </tr>\n",
       "    <tr>\n",
       "      <th>44</th>\n",
       "      <td>64</td>\n",
       "      <td>ablaze</td>\n",
       "      <td>NaN</td>\n",
       "      <td>I wanted to set Chicago ablaze with my preachi...</td>\n",
       "      <td>0</td>\n",
       "    </tr>\n",
       "  </tbody>\n",
       "</table>\n",
       "</div>"
      ],
      "text/plain": [
       "    id keyword                       location  \\\n",
       "32  49  ablaze  Est. September 2012 - Bristol   \n",
       "34  52  ablaze               Philadelphia, PA   \n",
       "35  53  ablaze                     London, UK   \n",
       "36  54  ablaze                       Pretoria   \n",
       "39  57  ablaze                 Paranaque City   \n",
       "40  59  ablaze                 Live On Webcam   \n",
       "41  61  ablaze                            NaN   \n",
       "42  62  ablaze                      milky way   \n",
       "43  63  ablaze                            NaN   \n",
       "44  64  ablaze                            NaN   \n",
       "\n",
       "                                                 text  target  \n",
       "32  We always try to bring the heavy. #metal #RT h...       0  \n",
       "34                 Crying out for more! Set me ablaze       0  \n",
       "35  On plus side LOOK AT THE SKY LAST NIGHT IT WAS...       0  \n",
       "36  @PhDSquares #mufc they've built so much hype a...       0  \n",
       "39                             Ablaze for you Lord :D       0  \n",
       "40  Check these out: http://t.co/rOI2NSmEJJ http:/...       0  \n",
       "41  on the outside you're ablaze and alive\\nbut yo...       0  \n",
       "42  Had an awesome time visiting the CFC head offi...       0  \n",
       "43       SOOOO PUMPED FOR ABLAZE ???? @southridgelife       0  \n",
       "44  I wanted to set Chicago ablaze with my preachi...       0  "
      ]
     },
     "execution_count": 11,
     "metadata": {},
     "output_type": "execute_result"
    }
   ],
   "source": [
    "train[(train['target']==0) & (pd.notna(train['keyword']))].head(10)"
   ]
  },
  {
   "cell_type": "code",
   "execution_count": 12,
   "metadata": {
    "colab": {
     "base_uri": "https://localhost:8080/",
     "height": 34
    },
    "colab_type": "code",
    "id": "o1UFb5Ju_DKy",
    "outputId": "466873ad-a558-4b28-e8be-e3b575752988"
   },
   "outputs": [
    {
     "data": {
      "text/plain": [
       "222"
      ]
     },
     "execution_count": 12,
     "metadata": {},
     "output_type": "execute_result"
    }
   ],
   "source": [
    "len(train['keyword'].unique())"
   ]
  },
  {
   "cell_type": "code",
   "execution_count": 13,
   "metadata": {
    "colab": {
     "base_uri": "https://localhost:8080/",
     "height": 34
    },
    "colab_type": "code",
    "id": "8THPvRmP_DLN",
    "outputId": "473deb04-49f9-403f-e320-4a16470cb726"
   },
   "outputs": [
    {
     "data": {
      "text/plain": [
       "3342"
      ]
     },
     "execution_count": 13,
     "metadata": {},
     "output_type": "execute_result"
    }
   ],
   "source": [
    "len(train['location'].unique())"
   ]
  },
  {
   "cell_type": "markdown",
   "metadata": {
    "colab_type": "text",
    "id": "wmb8PL-k_DLX"
   },
   "source": [
    "# Preprocessing"
   ]
  },
  {
   "cell_type": "markdown",
   "metadata": {},
   "source": [
    "## Normalize the text"
   ]
  },
  {
   "cell_type": "code",
   "execution_count": 14,
   "metadata": {
    "colab": {
     "base_uri": "https://localhost:8080/",
     "height": 1000
    },
    "colab_type": "code",
    "id": "K9wdLezW_DLY",
    "outputId": "6cdd6462-1073-4e63-aa50-303c37f4726c"
   },
   "outputs": [
    {
     "name": "stderr",
     "output_type": "stream",
     "text": [
      "/srv/conda/envs/saturn/lib/python3.7/site-packages/nltk/decorators.py:68: DeprecationWarning: `formatargspec` is deprecated since Python 3.5. Use `signature` and the `Signature` object directly\n",
      "  regargs, varargs, varkwargs, defaults, formatvalue=lambda value: \"\"\n",
      "/srv/conda/envs/saturn/lib/python3.7/site-packages/nltk/lm/counter.py:15: DeprecationWarning: Using or importing the ABCs from 'collections' instead of from 'collections.abc' is deprecated, and in 3.8 it will stop working\n",
      "  from collections import Sequence, defaultdict\n",
      "[nltk_data] Downloading collection 'all'\n",
      "[nltk_data]    | \n",
      "[nltk_data]    | Downloading package abc to /home/jovyan/nltk_data...\n",
      "[nltk_data]    |   Package abc is already up-to-date!\n",
      "[nltk_data]    | Downloading package alpino to\n",
      "[nltk_data]    |     /home/jovyan/nltk_data...\n",
      "[nltk_data]    |   Package alpino is already up-to-date!\n",
      "[nltk_data]    | Downloading package biocreative_ppi to\n",
      "[nltk_data]    |     /home/jovyan/nltk_data...\n",
      "[nltk_data]    |   Package biocreative_ppi is already up-to-date!\n",
      "[nltk_data]    | Downloading package brown to\n",
      "[nltk_data]    |     /home/jovyan/nltk_data...\n",
      "[nltk_data]    |   Package brown is already up-to-date!\n",
      "[nltk_data]    | Downloading package brown_tei to\n",
      "[nltk_data]    |     /home/jovyan/nltk_data...\n",
      "[nltk_data]    |   Package brown_tei is already up-to-date!\n",
      "[nltk_data]    | Downloading package cess_cat to\n",
      "[nltk_data]    |     /home/jovyan/nltk_data...\n",
      "[nltk_data]    |   Package cess_cat is already up-to-date!\n",
      "[nltk_data]    | Downloading package cess_esp to\n",
      "[nltk_data]    |     /home/jovyan/nltk_data...\n",
      "[nltk_data]    |   Package cess_esp is already up-to-date!\n",
      "[nltk_data]    | Downloading package chat80 to\n",
      "[nltk_data]    |     /home/jovyan/nltk_data...\n",
      "[nltk_data]    |   Package chat80 is already up-to-date!\n",
      "[nltk_data]    | Downloading package city_database to\n",
      "[nltk_data]    |     /home/jovyan/nltk_data...\n",
      "[nltk_data]    |   Package city_database is already up-to-date!\n",
      "[nltk_data]    | Downloading package cmudict to\n",
      "[nltk_data]    |     /home/jovyan/nltk_data...\n",
      "[nltk_data]    |   Package cmudict is already up-to-date!\n",
      "[nltk_data]    | Downloading package comparative_sentences to\n",
      "[nltk_data]    |     /home/jovyan/nltk_data...\n",
      "[nltk_data]    |   Package comparative_sentences is already up-to-\n",
      "[nltk_data]    |       date!\n",
      "[nltk_data]    | Downloading package comtrans to\n",
      "[nltk_data]    |     /home/jovyan/nltk_data...\n",
      "[nltk_data]    |   Package comtrans is already up-to-date!\n",
      "[nltk_data]    | Downloading package conll2000 to\n",
      "[nltk_data]    |     /home/jovyan/nltk_data...\n",
      "[nltk_data]    |   Package conll2000 is already up-to-date!\n",
      "[nltk_data]    | Downloading package conll2002 to\n",
      "[nltk_data]    |     /home/jovyan/nltk_data...\n",
      "[nltk_data]    |   Package conll2002 is already up-to-date!\n",
      "[nltk_data]    | Downloading package conll2007 to\n",
      "[nltk_data]    |     /home/jovyan/nltk_data...\n",
      "[nltk_data]    |   Package conll2007 is already up-to-date!\n",
      "[nltk_data]    | Downloading package crubadan to\n",
      "[nltk_data]    |     /home/jovyan/nltk_data...\n",
      "[nltk_data]    |   Package crubadan is already up-to-date!\n",
      "[nltk_data]    | Downloading package dependency_treebank to\n",
      "[nltk_data]    |     /home/jovyan/nltk_data...\n",
      "[nltk_data]    |   Package dependency_treebank is already up-to-date!\n",
      "[nltk_data]    | Downloading package dolch to\n",
      "[nltk_data]    |     /home/jovyan/nltk_data...\n",
      "[nltk_data]    |   Package dolch is already up-to-date!\n",
      "[nltk_data]    | Downloading package europarl_raw to\n",
      "[nltk_data]    |     /home/jovyan/nltk_data...\n",
      "[nltk_data]    |   Package europarl_raw is already up-to-date!\n",
      "[nltk_data]    | Downloading package floresta to\n",
      "[nltk_data]    |     /home/jovyan/nltk_data...\n",
      "[nltk_data]    |   Package floresta is already up-to-date!\n",
      "[nltk_data]    | Downloading package framenet_v15 to\n",
      "[nltk_data]    |     /home/jovyan/nltk_data...\n",
      "[nltk_data]    |   Package framenet_v15 is already up-to-date!\n",
      "[nltk_data]    | Downloading package framenet_v17 to\n",
      "[nltk_data]    |     /home/jovyan/nltk_data...\n",
      "[nltk_data]    |   Package framenet_v17 is already up-to-date!\n",
      "[nltk_data]    | Downloading package gazetteers to\n",
      "[nltk_data]    |     /home/jovyan/nltk_data...\n",
      "[nltk_data]    |   Package gazetteers is already up-to-date!\n",
      "[nltk_data]    | Downloading package genesis to\n",
      "[nltk_data]    |     /home/jovyan/nltk_data...\n",
      "[nltk_data]    |   Package genesis is already up-to-date!\n",
      "[nltk_data]    | Downloading package gutenberg to\n",
      "[nltk_data]    |     /home/jovyan/nltk_data...\n",
      "[nltk_data]    |   Package gutenberg is already up-to-date!\n",
      "[nltk_data]    | Downloading package ieer to /home/jovyan/nltk_data...\n",
      "[nltk_data]    |   Package ieer is already up-to-date!\n",
      "[nltk_data]    | Downloading package inaugural to\n",
      "[nltk_data]    |     /home/jovyan/nltk_data...\n",
      "[nltk_data]    |   Package inaugural is already up-to-date!\n",
      "[nltk_data]    | Downloading package indian to\n",
      "[nltk_data]    |     /home/jovyan/nltk_data...\n",
      "[nltk_data]    |   Package indian is already up-to-date!\n",
      "[nltk_data]    | Downloading package jeita to\n",
      "[nltk_data]    |     /home/jovyan/nltk_data...\n",
      "[nltk_data]    |   Package jeita is already up-to-date!\n",
      "[nltk_data]    | Downloading package kimmo to\n",
      "[nltk_data]    |     /home/jovyan/nltk_data...\n",
      "[nltk_data]    |   Package kimmo is already up-to-date!\n",
      "[nltk_data]    | Downloading package knbc to /home/jovyan/nltk_data...\n",
      "[nltk_data]    |   Package knbc is already up-to-date!\n",
      "[nltk_data]    | Downloading package lin_thesaurus to\n",
      "[nltk_data]    |     /home/jovyan/nltk_data...\n",
      "[nltk_data]    |   Package lin_thesaurus is already up-to-date!\n",
      "[nltk_data]    | Downloading package mac_morpho to\n",
      "[nltk_data]    |     /home/jovyan/nltk_data...\n",
      "[nltk_data]    |   Package mac_morpho is already up-to-date!\n",
      "[nltk_data]    | Downloading package machado to\n",
      "[nltk_data]    |     /home/jovyan/nltk_data...\n",
      "[nltk_data]    |   Package machado is already up-to-date!\n",
      "[nltk_data]    | Downloading package masc_tagged to\n",
      "[nltk_data]    |     /home/jovyan/nltk_data...\n",
      "[nltk_data]    |   Package masc_tagged is already up-to-date!\n",
      "[nltk_data]    | Downloading package moses_sample to\n",
      "[nltk_data]    |     /home/jovyan/nltk_data...\n",
      "[nltk_data]    |   Package moses_sample is already up-to-date!\n",
      "[nltk_data]    | Downloading package movie_reviews to\n",
      "[nltk_data]    |     /home/jovyan/nltk_data...\n",
      "[nltk_data]    |   Package movie_reviews is already up-to-date!\n",
      "[nltk_data]    | Downloading package names to\n",
      "[nltk_data]    |     /home/jovyan/nltk_data...\n",
      "[nltk_data]    |   Package names is already up-to-date!\n",
      "[nltk_data]    | Downloading package nombank.1.0 to\n",
      "[nltk_data]    |     /home/jovyan/nltk_data...\n",
      "[nltk_data]    |   Package nombank.1.0 is already up-to-date!\n",
      "[nltk_data]    | Downloading package nps_chat to\n",
      "[nltk_data]    |     /home/jovyan/nltk_data...\n",
      "[nltk_data]    |   Package nps_chat is already up-to-date!\n",
      "[nltk_data]    | Downloading package omw to /home/jovyan/nltk_data...\n",
      "[nltk_data]    |   Package omw is already up-to-date!\n",
      "[nltk_data]    | Downloading package opinion_lexicon to\n",
      "[nltk_data]    |     /home/jovyan/nltk_data...\n",
      "[nltk_data]    |   Package opinion_lexicon is already up-to-date!\n",
      "[nltk_data]    | Downloading package paradigms to\n",
      "[nltk_data]    |     /home/jovyan/nltk_data...\n",
      "[nltk_data]    |   Package paradigms is already up-to-date!\n",
      "[nltk_data]    | Downloading package pil to /home/jovyan/nltk_data...\n",
      "[nltk_data]    |   Package pil is already up-to-date!\n",
      "[nltk_data]    | Downloading package pl196x to\n",
      "[nltk_data]    |     /home/jovyan/nltk_data...\n",
      "[nltk_data]    |   Package pl196x is already up-to-date!\n",
      "[nltk_data]    | Downloading package ppattach to\n",
      "[nltk_data]    |     /home/jovyan/nltk_data...\n",
      "[nltk_data]    |   Package ppattach is already up-to-date!\n",
      "[nltk_data]    | Downloading package problem_reports to\n",
      "[nltk_data]    |     /home/jovyan/nltk_data...\n",
      "[nltk_data]    |   Package problem_reports is already up-to-date!\n",
      "[nltk_data]    | Downloading package propbank to\n",
      "[nltk_data]    |     /home/jovyan/nltk_data...\n",
      "[nltk_data]    |   Package propbank is already up-to-date!\n",
      "[nltk_data]    | Downloading package ptb to /home/jovyan/nltk_data...\n",
      "[nltk_data]    |   Package ptb is already up-to-date!\n",
      "[nltk_data]    | Downloading package product_reviews_1 to\n",
      "[nltk_data]    |     /home/jovyan/nltk_data...\n",
      "[nltk_data]    |   Package product_reviews_1 is already up-to-date!\n",
      "[nltk_data]    | Downloading package product_reviews_2 to\n",
      "[nltk_data]    |     /home/jovyan/nltk_data...\n",
      "[nltk_data]    |   Package product_reviews_2 is already up-to-date!\n",
      "[nltk_data]    | Downloading package pros_cons to\n",
      "[nltk_data]    |     /home/jovyan/nltk_data...\n",
      "[nltk_data]    |   Package pros_cons is already up-to-date!\n",
      "[nltk_data]    | Downloading package qc to /home/jovyan/nltk_data...\n",
      "[nltk_data]    |   Package qc is already up-to-date!\n",
      "[nltk_data]    | Downloading package reuters to\n",
      "[nltk_data]    |     /home/jovyan/nltk_data...\n",
      "[nltk_data]    |   Package reuters is already up-to-date!\n",
      "[nltk_data]    | Downloading package rte to /home/jovyan/nltk_data...\n",
      "[nltk_data]    |   Package rte is already up-to-date!\n",
      "[nltk_data]    | Downloading package semcor to\n",
      "[nltk_data]    |     /home/jovyan/nltk_data...\n",
      "[nltk_data]    |   Package semcor is already up-to-date!\n",
      "[nltk_data]    | Downloading package senseval to\n",
      "[nltk_data]    |     /home/jovyan/nltk_data...\n",
      "[nltk_data]    |   Package senseval is already up-to-date!\n",
      "[nltk_data]    | Downloading package sentiwordnet to\n",
      "[nltk_data]    |     /home/jovyan/nltk_data...\n",
      "[nltk_data]    |   Package sentiwordnet is already up-to-date!\n",
      "[nltk_data]    | Downloading package sentence_polarity to\n",
      "[nltk_data]    |     /home/jovyan/nltk_data...\n",
      "[nltk_data]    |   Package sentence_polarity is already up-to-date!\n",
      "[nltk_data]    | Downloading package shakespeare to\n",
      "[nltk_data]    |     /home/jovyan/nltk_data...\n",
      "[nltk_data]    |   Package shakespeare is already up-to-date!\n",
      "[nltk_data]    | Downloading package sinica_treebank to\n",
      "[nltk_data]    |     /home/jovyan/nltk_data...\n",
      "[nltk_data]    |   Package sinica_treebank is already up-to-date!\n",
      "[nltk_data]    | Downloading package smultron to\n",
      "[nltk_data]    |     /home/jovyan/nltk_data...\n",
      "[nltk_data]    |   Package smultron is already up-to-date!\n",
      "[nltk_data]    | Downloading package state_union to\n",
      "[nltk_data]    |     /home/jovyan/nltk_data...\n",
      "[nltk_data]    |   Package state_union is already up-to-date!\n",
      "[nltk_data]    | Downloading package stopwords to\n",
      "[nltk_data]    |     /home/jovyan/nltk_data...\n",
      "[nltk_data]    |   Package stopwords is already up-to-date!\n",
      "[nltk_data]    | Downloading package subjectivity to\n",
      "[nltk_data]    |     /home/jovyan/nltk_data...\n",
      "[nltk_data]    |   Package subjectivity is already up-to-date!\n",
      "[nltk_data]    | Downloading package swadesh to\n",
      "[nltk_data]    |     /home/jovyan/nltk_data...\n",
      "[nltk_data]    |   Package swadesh is already up-to-date!\n",
      "[nltk_data]    | Downloading package switchboard to\n",
      "[nltk_data]    |     /home/jovyan/nltk_data...\n",
      "[nltk_data]    |   Package switchboard is already up-to-date!\n",
      "[nltk_data]    | Downloading package timit to\n",
      "[nltk_data]    |     /home/jovyan/nltk_data...\n",
      "[nltk_data]    |   Package timit is already up-to-date!\n",
      "[nltk_data]    | Downloading package toolbox to\n",
      "[nltk_data]    |     /home/jovyan/nltk_data...\n",
      "[nltk_data]    |   Package toolbox is already up-to-date!\n",
      "[nltk_data]    | Downloading package treebank to\n",
      "[nltk_data]    |     /home/jovyan/nltk_data...\n",
      "[nltk_data]    |   Package treebank is already up-to-date!\n",
      "[nltk_data]    | Downloading package twitter_samples to\n",
      "[nltk_data]    |     /home/jovyan/nltk_data...\n",
      "[nltk_data]    |   Package twitter_samples is already up-to-date!\n",
      "[nltk_data]    | Downloading package udhr to /home/jovyan/nltk_data...\n",
      "[nltk_data]    |   Package udhr is already up-to-date!\n",
      "[nltk_data]    | Downloading package udhr2 to\n",
      "[nltk_data]    |     /home/jovyan/nltk_data...\n",
      "[nltk_data]    |   Package udhr2 is already up-to-date!\n",
      "[nltk_data]    | Downloading package unicode_samples to\n",
      "[nltk_data]    |     /home/jovyan/nltk_data...\n",
      "[nltk_data]    |   Package unicode_samples is already up-to-date!\n",
      "[nltk_data]    | Downloading package universal_treebanks_v20 to\n",
      "[nltk_data]    |     /home/jovyan/nltk_data...\n",
      "[nltk_data]    |   Package universal_treebanks_v20 is already up-to-\n",
      "[nltk_data]    |       date!\n",
      "[nltk_data]    | Downloading package verbnet to\n",
      "[nltk_data]    |     /home/jovyan/nltk_data...\n",
      "[nltk_data]    |   Package verbnet is already up-to-date!\n",
      "[nltk_data]    | Downloading package verbnet3 to\n",
      "[nltk_data]    |     /home/jovyan/nltk_data...\n",
      "[nltk_data]    |   Package verbnet3 is already up-to-date!\n",
      "[nltk_data]    | Downloading package webtext to\n",
      "[nltk_data]    |     /home/jovyan/nltk_data...\n",
      "[nltk_data]    |   Package webtext is already up-to-date!\n",
      "[nltk_data]    | Downloading package wordnet to\n",
      "[nltk_data]    |     /home/jovyan/nltk_data...\n",
      "[nltk_data]    |   Package wordnet is already up-to-date!\n",
      "[nltk_data]    | Downloading package wordnet_ic to\n",
      "[nltk_data]    |     /home/jovyan/nltk_data...\n",
      "[nltk_data]    |   Package wordnet_ic is already up-to-date!\n",
      "[nltk_data]    | Downloading package words to\n",
      "[nltk_data]    |     /home/jovyan/nltk_data...\n",
      "[nltk_data]    |   Package words is already up-to-date!\n",
      "[nltk_data]    | Downloading package ycoe to /home/jovyan/nltk_data...\n",
      "[nltk_data]    |   Package ycoe is already up-to-date!\n",
      "[nltk_data]    | Downloading package rslp to /home/jovyan/nltk_data...\n",
      "[nltk_data]    |   Package rslp is already up-to-date!\n",
      "[nltk_data]    | Downloading package maxent_treebank_pos_tagger to\n",
      "[nltk_data]    |     /home/jovyan/nltk_data...\n",
      "[nltk_data]    |   Package maxent_treebank_pos_tagger is already up-\n",
      "[nltk_data]    |       to-date!\n",
      "[nltk_data]    | Downloading package universal_tagset to\n",
      "[nltk_data]    |     /home/jovyan/nltk_data...\n",
      "[nltk_data]    |   Package universal_tagset is already up-to-date!\n",
      "[nltk_data]    | Downloading package maxent_ne_chunker to\n",
      "[nltk_data]    |     /home/jovyan/nltk_data...\n",
      "[nltk_data]    |   Package maxent_ne_chunker is already up-to-date!\n",
      "[nltk_data]    | Downloading package punkt to\n",
      "[nltk_data]    |     /home/jovyan/nltk_data...\n",
      "[nltk_data]    |   Package punkt is already up-to-date!\n",
      "[nltk_data]    | Downloading package book_grammars to\n",
      "[nltk_data]    |     /home/jovyan/nltk_data...\n",
      "[nltk_data]    |   Package book_grammars is already up-to-date!\n",
      "[nltk_data]    | Downloading package sample_grammars to\n",
      "[nltk_data]    |     /home/jovyan/nltk_data...\n",
      "[nltk_data]    |   Package sample_grammars is already up-to-date!\n",
      "[nltk_data]    | Downloading package spanish_grammars to\n",
      "[nltk_data]    |     /home/jovyan/nltk_data...\n",
      "[nltk_data]    |   Package spanish_grammars is already up-to-date!\n",
      "[nltk_data]    | Downloading package basque_grammars to\n",
      "[nltk_data]    |     /home/jovyan/nltk_data...\n",
      "[nltk_data]    |   Package basque_grammars is already up-to-date!\n",
      "[nltk_data]    | Downloading package large_grammars to\n",
      "[nltk_data]    |     /home/jovyan/nltk_data...\n",
      "[nltk_data]    |   Package large_grammars is already up-to-date!\n",
      "[nltk_data]    | Downloading package tagsets to\n",
      "[nltk_data]    |     /home/jovyan/nltk_data...\n",
      "[nltk_data]    |   Package tagsets is already up-to-date!\n",
      "[nltk_data]    | Downloading package snowball_data to\n",
      "[nltk_data]    |     /home/jovyan/nltk_data...\n",
      "[nltk_data]    |   Package snowball_data is already up-to-date!\n",
      "[nltk_data]    | Downloading package bllip_wsj_no_aux to\n",
      "[nltk_data]    |     /home/jovyan/nltk_data...\n",
      "[nltk_data]    |   Package bllip_wsj_no_aux is already up-to-date!\n",
      "[nltk_data]    | Downloading package word2vec_sample to\n",
      "[nltk_data]    |     /home/jovyan/nltk_data...\n",
      "[nltk_data]    |   Package word2vec_sample is already up-to-date!\n",
      "[nltk_data]    | Downloading package panlex_swadesh to\n",
      "[nltk_data]    |     /home/jovyan/nltk_data...\n",
      "[nltk_data]    |   Package panlex_swadesh is already up-to-date!\n",
      "[nltk_data]    | Downloading package mte_teip5 to\n",
      "[nltk_data]    |     /home/jovyan/nltk_data...\n",
      "[nltk_data]    |   Package mte_teip5 is already up-to-date!\n",
      "[nltk_data]    | Downloading package averaged_perceptron_tagger to\n",
      "[nltk_data]    |     /home/jovyan/nltk_data...\n",
      "[nltk_data]    |   Package averaged_perceptron_tagger is already up-\n",
      "[nltk_data]    |       to-date!\n",
      "[nltk_data]    | Downloading package averaged_perceptron_tagger_ru to\n",
      "[nltk_data]    |     /home/jovyan/nltk_data...\n",
      "[nltk_data]    |   Package averaged_perceptron_tagger_ru is already\n",
      "[nltk_data]    |       up-to-date!\n",
      "[nltk_data]    | Downloading package perluniprops to\n",
      "[nltk_data]    |     /home/jovyan/nltk_data...\n",
      "[nltk_data]    |   Package perluniprops is already up-to-date!\n",
      "[nltk_data]    | Downloading package nonbreaking_prefixes to\n",
      "[nltk_data]    |     /home/jovyan/nltk_data...\n",
      "[nltk_data]    |   Package nonbreaking_prefixes is already up-to-date!\n",
      "[nltk_data]    | Downloading package vader_lexicon to\n",
      "[nltk_data]    |     /home/jovyan/nltk_data...\n",
      "[nltk_data]    |   Package vader_lexicon is already up-to-date!\n",
      "[nltk_data]    | Downloading package porter_test to\n",
      "[nltk_data]    |     /home/jovyan/nltk_data...\n",
      "[nltk_data]    |   Package porter_test is already up-to-date!\n",
      "[nltk_data]    | Downloading package wmt15_eval to\n",
      "[nltk_data]    |     /home/jovyan/nltk_data...\n",
      "[nltk_data]    |   Package wmt15_eval is already up-to-date!\n",
      "[nltk_data]    | Downloading package mwa_ppdb to\n",
      "[nltk_data]    |     /home/jovyan/nltk_data...\n",
      "[nltk_data]    |   Package mwa_ppdb is already up-to-date!\n",
      "[nltk_data]    | \n",
      "[nltk_data]  Done downloading collection all\n"
     ]
    },
    {
     "data": {
      "text/plain": [
       "True"
      ]
     },
     "execution_count": 14,
     "metadata": {},
     "output_type": "execute_result"
    }
   ],
   "source": [
    "import nltk\n",
    "from nltk.tokenize import TweetTokenizer\n",
    "from nltk.corpus import stopwords\n",
    "import string\n",
    "from nltk.stem import PorterStemmer\n",
    "from nltk.stem import WordNetLemmatizer\n",
    "nltk.download('all')"
   ]
  },
  {
   "cell_type": "code",
   "execution_count": 15,
   "metadata": {
    "colab": {},
    "colab_type": "code",
    "id": "Uil4U5dP_DLc"
   },
   "outputs": [],
   "source": [
    "import re\n",
    "\n",
    "replacement_patterns = [\n",
    "    #match url (i.e: https://t.co/5tF5G9VKtq)\n",
    "    (r'\\w+:\\/{2}[\\d\\w-]+(\\.[\\d\\w-]+)*(?:(?:\\/[^\\s/]*))*', '<url>'),\n",
    "\n",
    "    #match user (i.e: @cerpintor )\n",
    "    (r'@\\w+', '<user>'),\n",
    "\n",
    "    #Replace \"&...\" with ''\n",
    "    (r'&\\w+', '')\n",
    "]\n",
    "\n",
    "class RegexReplacer(object):\n",
    "    def __init__(self, patterns = replacement_patterns):\n",
    "        self.patterns = [(re.compile(regrex),repl) for (regrex, repl) in\n",
    "                        patterns]\n",
    "    \n",
    "    #Replace the words that match the patterns with replacement words\n",
    "    def replace(self, text):\n",
    "        s = text\n",
    "        for (pattern, repl) in self.patterns:\n",
    "            s = re.sub(pattern, repl, s)\n",
    "        return s"
   ]
  },
  {
   "cell_type": "code",
   "execution_count": 16,
   "metadata": {
    "colab": {},
    "colab_type": "code",
    "id": "5YgFV4fH_DLh"
   },
   "outputs": [],
   "source": [
    "tknz = TweetTokenizer()\n",
    "replacer = RegexReplacer()\n",
    "stopwords = set(stopwords.words('english'))\n",
    "punc = string.punctuation"
   ]
  },
  {
   "cell_type": "code",
   "execution_count": 17,
   "metadata": {
    "colab": {},
    "colab_type": "code",
    "id": "KxWddRxW_DLk"
   },
   "outputs": [],
   "source": [
    "#function to process the text\n",
    "def normalize(doc):\n",
    "    \n",
    "    for i in range(len(doc)):\n",
    "        \n",
    "        #Tokenize with replacement\n",
    "        doc[i] = tknz.tokenize(replacer.replace(doc[i]))\n",
    "        \n",
    "        #Filter stopwords, punctuations, and lowercase\n",
    "        doc[i] = [w.lower() for w in doc[i] if w not in punc and w not in stopwords]\n",
    "    \n",
    "        #Stem words\n",
    "        \n",
    "        lemmatizer = WordNetLemmatizer()\n",
    "        \n",
    "        doc[i] = [lemmatizer.lemmatize(w, pos='v') for w in doc[i]]\n",
    "        \n",
    "        \n",
    "        #concat\n",
    "        doc[i] = ' '.join(w for w in doc[i])\n",
    "        \n",
    "    return doc"
   ]
  },
  {
   "cell_type": "code",
   "execution_count": 18,
   "metadata": {
    "colab": {
     "base_uri": "https://localhost:8080/",
     "height": 340
    },
    "colab_type": "code",
    "id": "Ed8d3HtT_DLy",
    "outputId": "94af947d-0a0a-42d3-8549-e6dbaee002b4"
   },
   "outputs": [
    {
     "name": "stderr",
     "output_type": "stream",
     "text": [
      "/srv/conda/envs/saturn/lib/python3.7/site-packages/ipykernel_launcher.py:6: SettingWithCopyWarning: \n",
      "A value is trying to be set on a copy of a slice from a DataFrame\n",
      "\n",
      "See the caveats in the documentation: http://pandas.pydata.org/pandas-docs/stable/indexing.html#indexing-view-versus-copy\n",
      "  \n",
      "/srv/conda/envs/saturn/lib/python3.7/site-packages/ipykernel_launcher.py:9: SettingWithCopyWarning: \n",
      "A value is trying to be set on a copy of a slice from a DataFrame\n",
      "\n",
      "See the caveats in the documentation: http://pandas.pydata.org/pandas-docs/stable/indexing.html#indexing-view-versus-copy\n",
      "  if __name__ == '__main__':\n",
      "/srv/conda/envs/saturn/lib/python3.7/site-packages/ipykernel_launcher.py:15: SettingWithCopyWarning: \n",
      "A value is trying to be set on a copy of a slice from a DataFrame\n",
      "\n",
      "See the caveats in the documentation: http://pandas.pydata.org/pandas-docs/stable/indexing.html#indexing-view-versus-copy\n",
      "  from ipykernel import kernelapp as app\n",
      "/srv/conda/envs/saturn/lib/python3.7/site-packages/ipykernel_launcher.py:19: SettingWithCopyWarning: \n",
      "A value is trying to be set on a copy of a slice from a DataFrame\n",
      "\n",
      "See the caveats in the documentation: http://pandas.pydata.org/pandas-docs/stable/indexing.html#indexing-view-versus-copy\n"
     ]
    }
   ],
   "source": [
    "text_train = normalize(train['text'])"
   ]
  },
  {
   "cell_type": "code",
   "execution_count": 19,
   "metadata": {
    "colab": {
     "base_uri": "https://localhost:8080/",
     "height": 340
    },
    "colab_type": "code",
    "id": "TqmfN6Z5_DMH",
    "outputId": "8d7abc7a-ec22-464a-b931-81a44d134efb"
   },
   "outputs": [
    {
     "name": "stderr",
     "output_type": "stream",
     "text": [
      "/srv/conda/envs/saturn/lib/python3.7/site-packages/ipykernel_launcher.py:6: SettingWithCopyWarning: \n",
      "A value is trying to be set on a copy of a slice from a DataFrame\n",
      "\n",
      "See the caveats in the documentation: http://pandas.pydata.org/pandas-docs/stable/indexing.html#indexing-view-versus-copy\n",
      "  \n",
      "/srv/conda/envs/saturn/lib/python3.7/site-packages/ipykernel_launcher.py:9: SettingWithCopyWarning: \n",
      "A value is trying to be set on a copy of a slice from a DataFrame\n",
      "\n",
      "See the caveats in the documentation: http://pandas.pydata.org/pandas-docs/stable/indexing.html#indexing-view-versus-copy\n",
      "  if __name__ == '__main__':\n",
      "/srv/conda/envs/saturn/lib/python3.7/site-packages/ipykernel_launcher.py:15: SettingWithCopyWarning: \n",
      "A value is trying to be set on a copy of a slice from a DataFrame\n",
      "\n",
      "See the caveats in the documentation: http://pandas.pydata.org/pandas-docs/stable/indexing.html#indexing-view-versus-copy\n",
      "  from ipykernel import kernelapp as app\n",
      "/srv/conda/envs/saturn/lib/python3.7/site-packages/ipykernel_launcher.py:19: SettingWithCopyWarning: \n",
      "A value is trying to be set on a copy of a slice from a DataFrame\n",
      "\n",
      "See the caveats in the documentation: http://pandas.pydata.org/pandas-docs/stable/indexing.html#indexing-view-versus-copy\n"
     ]
    }
   ],
   "source": [
    "text_test = normalize(test['text'])"
   ]
  },
  {
   "cell_type": "code",
   "execution_count": 20,
   "metadata": {
    "colab": {
     "base_uri": "https://localhost:8080/",
     "height": 221
    },
    "colab_type": "code",
    "id": "6rDlcgTK_DMN",
    "outputId": "0a9a893a-2f4b-4996-b579-412ba18ff89d"
   },
   "outputs": [
    {
     "data": {
      "text/plain": [
       "0       our deeds reason #earthquake may allah forgive us\n",
       "1                   forest fire near la ronge sask canada\n",
       "2       all residents ask shelter place notify officer...\n",
       "3       13,000 people receive #wildfires evacuation or...\n",
       "4       just get send photo ruby #alaska smoke #wildfi...\n",
       "5       #rockyfire update california hwy 20 close dire...\n",
       "6       #flood #disaster heavy rain cause flash flood ...\n",
       "7                       i'm top hill i see fire woods ...\n",
       "8       there's emergency evacuation happen build acro...\n",
       "9                        i'm afraid tornado come area ...\n",
       "10                         three people die heat wave far\n",
       "11      haha south tampa get flood hah wait a second i...\n",
       "12      #raining #flooding #florida #tampabay #tampa 1...\n",
       "13                    #flood bago myanmar #we arrive bago\n",
       "14         damage school bus 80 multi car crash #breaking\n",
       "15                                             what's man\n",
       "16                                           i love fruit\n",
       "17                                          summer lovely\n",
       "18                                            my car fast\n",
       "19                                   what goooooooaaaaaal\n",
       "20                                         ridiculous ...\n",
       "21                                         london cool ;)\n",
       "22                                               love ski\n",
       "23                                     what wonderful day\n",
       "24                                               looooool\n",
       "25                            no way ... i can't eat shit\n",
       "26                                       be nyc last week\n",
       "27                                        love girlfriend\n",
       "28                                              cooool :)\n",
       "29                                          do like pasta\n",
       "                              ...                        \n",
       "7583    pic 16yr old pkk suicide bomber detonate bomb ...\n",
       "7584    these box ready explode explode kitten finally...\n",
       "7585      calgary police flood road closure calgary <url>\n",
       "7586    #sismo detectado #japì_n 15:41 07 seismic inte...\n",
       "7587                                    sirens everywhere\n",
       "7588    break #isis claim responsibility mosque attack...\n",
       "7589                                       omg earthquake\n",
       "7590    severe weather bulletin no 5 for typhoon  ûï ...\n",
       "7591    heat wave warn aa ayyo dei just i plan visit f...\n",
       "7592    an be group suicide bomber detonate explosives...\n",
       "7593        i hear really loud bang everyone asleep great\n",
       "7594    a gas thing explode i hear scream whole street...\n",
       "7595    nws flash flood warn continue shelby county 08...\n",
       "7596    rt <user> #nws issue severe #thunderstorm warn...\n",
       "7597    mh370 aircraft debris find la reunion miss mal...\n",
       "7598    father-of-three lose control car after overtak...\n",
       "7599    1.3 #earthquake 9km ssw of anza california #ip...\n",
       "7600     evacuation order lift town roosevelt <url> <url>\n",
       "7601    #breaking #la refugio oil spill may costlier b...\n",
       "7602                         siren go forney tornado warn\n",
       "7603    officials say quarantine place alabama home po...\n",
       "7604    #worldnews fall powerlines g link tram update ...\n",
       "7605    flip side i'm walmart bomb everyone evacuate s...\n",
       "7606    suicide bomber kill 15 saudi security site mos...\n",
       "7607    #stormchase violent record break ef 5 el reno ...\n",
       "7608    two giant crane hold bridge collapse nearby ho...\n",
       "7609    <user> <user> the control wild fire california...\n",
       "7610           m1 94 01:04 utc 5km s volcano hawaii <url>\n",
       "7611    police investigate e-bike collide car little p...\n",
       "7612    the latest more home raze northern california ...\n",
       "Name: text, Length: 7613, dtype: object"
      ]
     },
     "execution_count": 20,
     "metadata": {},
     "output_type": "execute_result"
    }
   ],
   "source": [
    "text_train"
   ]
  },
  {
   "cell_type": "markdown",
   "metadata": {
    "colab_type": "text",
    "id": "px2M4fr__DMR"
   },
   "source": [
    "## Split the training and test set"
   ]
  },
  {
   "cell_type": "code",
   "execution_count": 124,
   "metadata": {
    "colab": {},
    "colab_type": "code",
    "id": "5tk7qqXr_DMT"
   },
   "outputs": [],
   "source": [
    "from sklearn.model_selection import train_test_split\n",
    "\n",
    "X_train, X_test, y_train, y_test = train_test_split(text_train, train['target'], test_size=0.4, random_state=0)"
   ]
  },
  {
   "cell_type": "markdown",
   "metadata": {
    "colab_type": "text",
    "id": "vQKqfUVd_DMv"
   },
   "source": [
    "# Model Training"
   ]
  },
  {
   "cell_type": "markdown",
   "metadata": {
    "colab_type": "text",
    "id": "_E5RqEyd_DMw"
   },
   "source": [
    "## Tf-Idf\n",
    "\n",
    "- Apply Linear Support Vector Classification for classification\n",
    "- Use GridSearchCV to find the best C parameter for the SVC\n",
    "- Convert raw text to a matrix of TF-IDF features\n",
    "- Predict with Tf-Idf representation of words"
   ]
  },
  {
   "cell_type": "code",
   "execution_count": 23,
   "metadata": {
    "colab": {
     "base_uri": "https://localhost:8080/",
     "height": 241
    },
    "colab_type": "code",
    "id": "JZBpmK4s_DNF",
    "outputId": "f4285a6b-b5b4-435b-f499-d93218f86b46"
   },
   "outputs": [
    {
     "name": "stdout",
     "output_type": "stream",
     "text": [
      "[[1471  291]\n",
      " [ 332  952]]\n",
      "              precision    recall  f1-score   support\n",
      "\n",
      "           0       0.82      0.83      0.83      1762\n",
      "           1       0.77      0.74      0.75      1284\n",
      "\n",
      "    accuracy                           0.80      3046\n",
      "   macro avg       0.79      0.79      0.79      3046\n",
      "weighted avg       0.79      0.80      0.79      3046\n",
      "\n"
     ]
    },
    {
     "data": {
      "text/plain": [
       "\"\\n  mlflow.log_param('C', grid.best_params_)\\n  mlflow.log_metric('f1', metrics.f1_score(y_test, labels_pred))\\n\\n  mlflow.sklearn.log_model(grid, 'tfidf')\\n\""
      ]
     },
     "execution_count": 23,
     "metadata": {},
     "output_type": "execute_result"
    }
   ],
   "source": [
    "import csv\n",
    "import argparse\n",
    "from sklearn.preprocessing import LabelEncoder\n",
    "from sklearn.metrics import accuracy_score, confusion_matrix, f1_score, precision_recall_fscore_support, roc_auc_score\n",
    "from sklearn import metrics, preprocessing\n",
    "import numpy as np\n",
    "\n",
    "from sklearn import svm, datasets\n",
    "from sklearn.linear_model import LogisticRegression\n",
    "from sklearn.model_selection import GridSearchCV\n",
    "\n",
    "import pandas as pd\n",
    "from sklearn.feature_extraction.text import TfidfVectorizer\n",
    "\n",
    "\n",
    "parameters = {'C': [.05, .12, .25, .5, 1, 2, 4]}\n",
    "svr = svm.LinearSVC(class_weight='balanced')\n",
    "grid = GridSearchCV(estimator=svr, param_grid=parameters, n_jobs=8, scoring=\"f1_macro\", cv=5)\n",
    "\n",
    "#tf-idf\n",
    "tfidf_vectorizer=TfidfVectorizer(use_idf=True)\n",
    "\n",
    "#just send in all your docs here\n",
    "tfidf_vectorizer_train=tfidf_vectorizer.fit_transform(X_train)\n",
    "\n",
    "tfidf_vectorizer_test=tfidf_vectorizer.transform(X_test)\n",
    "\n",
    "grid = GridSearchCV(estimator=svr, param_grid=parameters, n_jobs=8, scoring=\"f1_macro\", cv=5)\n",
    "grid.fit(tfidf_vectorizer_train,y_train)\n",
    "\n",
    "labels_pred = grid.predict(tfidf_vectorizer_test)\n",
    "\n",
    "print(confusion_matrix(y_test, labels_pred))\n",
    "print(metrics.classification_report(y_test, labels_pred))"
   ]
  },
  {
   "cell_type": "markdown",
   "metadata": {},
   "source": [
    "## Tf-Idf N-grams\n",
    "\n",
    "N-gram is a contiguous sequence of n items from a given sample of text or speech. The items can be characters or words. I experiment with both characters and words with n-grams of different sizes"
   ]
  },
  {
   "cell_type": "markdown",
   "metadata": {},
   "source": [
    "### Characters"
   ]
  },
  {
   "cell_type": "code",
   "execution_count": 139,
   "metadata": {},
   "outputs": [
    {
     "name": "stdout",
     "output_type": "stream",
     "text": [
      "[[1486  276]\n",
      " [ 330  954]]\n",
      "              precision    recall  f1-score   support\n",
      "\n",
      "           0       0.82      0.84      0.83      1762\n",
      "           1       0.78      0.74      0.76      1284\n",
      "\n",
      "    accuracy                           0.80      3046\n",
      "   macro avg       0.80      0.79      0.79      3046\n",
      "weighted avg       0.80      0.80      0.80      3046\n",
      "\n"
     ]
    }
   ],
   "source": [
    "#analyzer = 'char', ngram_range = (3,6): create tf-idf with n-gram of 3-6 characters\n",
    "#alternative: ngrams_range = (3,3), (4,4), etc\n",
    "tfidf_vectorizer_c=TfidfVectorizer(use_idf=True, analyzer = 'char', ngram_range = (3,6))\n",
    "\n",
    "#just send in all your docs here\n",
    "tfidf_vectorizer_train_c=tfidf_vectorizer_c.fit_transform(X_train)\n",
    "\n",
    "tfidf_vectorizer_test_c=tfidf_vectorizer_c.transform(X_test)\n",
    "\n",
    "grid = GridSearchCV(estimator=svr, param_grid=parameters, n_jobs=8, scoring=\"f1_macro\", cv=5)\n",
    "grid.fit(tfidf_vectorizer_train_c,y_train)\n",
    "\n",
    "labels_pred = grid.predict(tfidf_vectorizer_test_c)\n",
    "\n",
    "print(confusion_matrix(y_test, labels_pred))\n",
    "print(metrics.classification_report(y_test, labels_pred))"
   ]
  },
  {
   "cell_type": "markdown",
   "metadata": {},
   "source": [
    "### Words"
   ]
  },
  {
   "cell_type": "code",
   "execution_count": 140,
   "metadata": {},
   "outputs": [
    {
     "name": "stdout",
     "output_type": "stream",
     "text": [
      "[[1445  317]\n",
      " [ 319  965]]\n",
      "              precision    recall  f1-score   support\n",
      "\n",
      "           0       0.82      0.82      0.82      1762\n",
      "           1       0.75      0.75      0.75      1284\n",
      "\n",
      "    accuracy                           0.79      3046\n",
      "   macro avg       0.79      0.79      0.79      3046\n",
      "weighted avg       0.79      0.79      0.79      3046\n",
      "\n"
     ]
    }
   ],
   "source": [
    "#analyzer = 'word', ngram_range = (3,6): create tf-idf with n-gram of 1-3 words\n",
    "tfidf_vectorizer_w=TfidfVectorizer(use_idf=True, analyzer = 'word', ngram_range = (1,3))\n",
    "\n",
    "#just send in all your docs here\n",
    "tfidf_vectorizer_train_w=tfidf_vectorizer_w.fit_transform(X_train)\n",
    "\n",
    "tfidf_vectorizer_test_w=tfidf_vectorizer_w.transform(X_test)\n",
    "\n",
    "grid = GridSearchCV(estimator=svr, param_grid=parameters, n_jobs=8, scoring=\"f1_macro\", cv=5)\n",
    "grid.fit(tfidf_vectorizer_train_w,y_train)\n",
    "\n",
    "labels_pred = grid.predict(tfidf_vectorizer_test_w)\n",
    "\n",
    "print(confusion_matrix(y_test, labels_pred))\n",
    "print(metrics.classification_report(y_test, labels_pred))"
   ]
  },
  {
   "cell_type": "markdown",
   "metadata": {},
   "source": [
    "### Concatenate Characters and Words"
   ]
  },
  {
   "cell_type": "code",
   "execution_count": 146,
   "metadata": {},
   "outputs": [
    {
     "name": "stdout",
     "output_type": "stream",
     "text": [
      "[[1481  281]\n",
      " [ 328  956]]\n",
      "              precision    recall  f1-score   support\n",
      "\n",
      "           0       0.82      0.84      0.83      1762\n",
      "           1       0.77      0.74      0.76      1284\n",
      "\n",
      "    accuracy                           0.80      3046\n",
      "   macro avg       0.80      0.79      0.79      3046\n",
      "weighted avg       0.80      0.80      0.80      3046\n",
      "\n"
     ]
    }
   ],
   "source": [
    "from scipy.sparse import hstack\n",
    "\n",
    "tfidf_vectorizer_train_concat = hstack([tfidf_vectorizer_train_c, tfidf_vectorizer_train_w])\n",
    "tfidf_vectorizer_test_concat = hstack([tfidf_vectorizer_test_c, tfidf_vectorizer_test_w])\n",
    "\n",
    "grid = GridSearchCV(estimator=svr, param_grid=parameters, n_jobs=8, scoring=\"f1_macro\", cv=5)\n",
    "grid.fit(tfidf_vectorizer_train_concat,y_train)\n",
    "\n",
    "labels_pred = grid.predict(tfidf_vectorizer_test_concat)\n",
    "\n",
    "print(confusion_matrix(y_test, labels_pred))\n",
    "print(metrics.classification_report(y_test, labels_pred))\n"
   ]
  },
  {
   "cell_type": "markdown",
   "metadata": {
    "colab_type": "text",
    "id": "Vih2QysA_DOP"
   },
   "source": [
    "## TFIDF selecting k best\n",
    "\n",
    "- Apply SelectKBest to select the 2000 best features (words)\n"
   ]
  },
  {
   "cell_type": "code",
   "execution_count": 24,
   "metadata": {
    "colab": {},
    "colab_type": "code",
    "id": "B16tpoQp_DOQ"
   },
   "outputs": [],
   "source": [
    "from sklearn.feature_selection import SelectKBest, chi2\n",
    "import scipy"
   ]
  },
  {
   "cell_type": "code",
   "execution_count": 25,
   "metadata": {
    "colab": {
     "base_uri": "https://localhost:8080/",
     "height": 241
    },
    "colab_type": "code",
    "id": "3v8RrQ-9_DOg",
    "outputId": "be73e099-0a66-4bf0-b0de-1b5395200df9"
   },
   "outputs": [
    {
     "name": "stdout",
     "output_type": "stream",
     "text": [
      "[[1451  311]\n",
      " [ 352  932]]\n",
      "              precision    recall  f1-score   support\n",
      "\n",
      "           0       0.80      0.82      0.81      1762\n",
      "           1       0.75      0.73      0.74      1284\n",
      "\n",
      "    accuracy                           0.78      3046\n",
      "   macro avg       0.78      0.77      0.78      3046\n",
      "weighted avg       0.78      0.78      0.78      3046\n",
      "\n"
     ]
    },
    {
     "data": {
      "text/plain": [
       "\"\\n  mlflow.log_param('C', grid.best_params_)\\n  mlflow.log_metric('f1', metrics.f1_score(y_test, labels_pred))\\n\\n  mlflow.sklearn.log_model(grid, 'tfidf-kbest')\\n\""
      ]
     },
     "execution_count": 25,
     "metadata": {},
     "output_type": "execute_result"
    }
   ],
   "source": [
    "feats = SelectKBest(chi2, k = 2000)\n",
    "feats.fit(tfidf_vectorizer_train, y_train)\n",
    "\n",
    "#Convert sparse matrix to dense matrix \n",
    "tfidf_vectorizer_train = scipy.sparse.csr_matrix.todense(tfidf_vectorizer_train)\n",
    "tfidf_vectorizer_test = scipy.sparse.csr_matrix.todense(tfidf_vectorizer_test)\n",
    "\n",
    "#Indices of best features\n",
    "words_ind = feats.get_support(indices=True)\n",
    "\n",
    "#Select the words within the list of best features\n",
    "tfidf_vectorizer_train_best = np.array([tfidf_vectorizer_train[:, ind] for ind in words_ind])[:,:, 0].T\n",
    "tfidf_vectorizer_test_best = np.array([tfidf_vectorizer_test[:, ind] for ind in words_ind])[:,:,0].T\n",
    "tfidf_vectorizer_train_best.shape\n",
    "\n",
    "labels_pred = grid.predict(tfidf_vectorizer_test_best)\n",
    "\n",
    "print(confusion_matrix(y_test, labels_pred))\n",
    "print(metrics.classification_report(y_test, labels_pred))"
   ]
  },
  {
   "cell_type": "markdown",
   "metadata": {
    "colab_type": "text",
    "id": "AFr9Oda-_DOm"
   },
   "source": [
    "## Concatenate TFIDF and K-best from TFIDF"
   ]
  },
  {
   "cell_type": "code",
   "execution_count": 166,
   "metadata": {},
   "outputs": [],
   "source": [
    "concat_train = hstack([tfidf_vectorizer_train, tfidf_vectorizer_train_best])\n",
    "concat_test = hstack([tfidf_vectorizer_test, tfidf_vectorizer_test_best])"
   ]
  },
  {
   "cell_type": "code",
   "execution_count": 150,
   "metadata": {
    "colab": {
     "base_uri": "https://localhost:8080/",
     "height": 258
    },
    "colab_type": "code",
    "id": "xlX7aKUk_DOx",
    "outputId": "ec803583-b3c7-4fac-f6f6-ba3253f35502"
   },
   "outputs": [
    {
     "name": "stdout",
     "output_type": "stream",
     "text": [
      "[[1503  259]\n",
      " [ 320  964]]\n",
      "              precision    recall  f1-score   support\n",
      "\n",
      "           0       0.82      0.85      0.84      1762\n",
      "           1       0.79      0.75      0.77      1284\n",
      "\n",
      "    accuracy                           0.81      3046\n",
      "   macro avg       0.81      0.80      0.80      3046\n",
      "weighted avg       0.81      0.81      0.81      3046\n",
      "\n"
     ]
    }
   ],
   "source": [
    "grid = GridSearchCV(estimator=svr, param_grid=parameters, n_jobs=8, scoring=\"f1_macro\", cv=5)\n",
    "grid.fit(concat_train,y_train)\n",
    "\n",
    "labels_pred = grid.predict(concat_test)\n",
    "\n",
    "print(confusion_matrix(y_test, labels_pred))\n",
    "print(metrics.classification_report(y_test, labels_pred))"
   ]
  },
  {
   "cell_type": "markdown",
   "metadata": {
    "colab_type": "text",
    "id": "Uyz55C81_DO-"
   },
   "source": [
    "## Binary\n",
    "\n",
    "Convert a collection of text documents to a matrix of token counts. All non zero counts are set to 1. Since tweets are short, binary may be a better choice than integer count"
   ]
  },
  {
   "cell_type": "code",
   "execution_count": 176,
   "metadata": {
    "colab": {},
    "colab_type": "code",
    "id": "blKc5Z-S_DPQ"
   },
   "outputs": [],
   "source": [
    "from sklearn.feature_extraction.text import CountVectorizer\n",
    "import scipy\n",
    "\n",
    "vectorizer = CountVectorizer(binary=True, stop_words=stopwords)\n",
    "bin_train = scipy.sparse.csr_matrix.todense(vectorizer.fit_transform(X_train))\n",
    "bin_test = scipy.sparse.csr_matrix.todense(vectorizer.transform(X_test))"
   ]
  },
  {
   "cell_type": "code",
   "execution_count": 177,
   "metadata": {
    "colab": {
     "base_uri": "https://localhost:8080/",
     "height": 258
    },
    "colab_type": "code",
    "id": "BWzTdG1j_DPb",
    "outputId": "5d0bac6a-1dc4-4e99-ad18-bc383ce7222e"
   },
   "outputs": [
    {
     "name": "stdout",
     "output_type": "stream",
     "text": [
      "[[1510  252]\n",
      " [ 343  941]]\n",
      "              precision    recall  f1-score   support\n",
      "\n",
      "           0       0.81      0.86      0.84      1762\n",
      "           1       0.79      0.73      0.76      1284\n",
      "\n",
      "    accuracy                           0.80      3046\n",
      "   macro avg       0.80      0.79      0.80      3046\n",
      "weighted avg       0.80      0.80      0.80      3046\n",
      "\n"
     ]
    }
   ],
   "source": [
    "grid = GridSearchCV(estimator=svr, param_grid=parameters, n_jobs=8, scoring=\"f1_macro\", cv=5)\n",
    "grid.fit(bin_train,y_train)\n",
    "\n",
    "labels_pred = grid.predict(bin_test)\n",
    "\n",
    "print(confusion_matrix(y_test, labels_pred))\n",
    "print(metrics.classification_report(y_test, labels_pred))"
   ]
  },
  {
   "cell_type": "markdown",
   "metadata": {
    "colab_type": "text",
    "id": "BlgBi3yX_DPd"
   },
   "source": [
    "## Binary selecting k best"
   ]
  },
  {
   "cell_type": "code",
   "execution_count": 178,
   "metadata": {
    "colab": {
     "base_uri": "https://localhost:8080/",
     "height": 34
    },
    "colab_type": "code",
    "id": "V96k486T_DPe",
    "outputId": "529072bf-76b6-440f-c740-b96ece121968"
   },
   "outputs": [
    {
     "data": {
      "text/plain": [
       "SelectKBest(k=1000, score_func=<function chi2 at 0x7f74ef696510>)"
      ]
     },
     "execution_count": 178,
     "metadata": {},
     "output_type": "execute_result"
    }
   ],
   "source": [
    "feats = SelectKBest(chi2, k = 1000)\n",
    "feats.fit(bin_train, y_train)"
   ]
  },
  {
   "cell_type": "code",
   "execution_count": 179,
   "metadata": {
    "colab": {},
    "colab_type": "code",
    "id": "LCicMnqv_DPt"
   },
   "outputs": [],
   "source": [
    "words_ind = feats.get_support(indices=True)"
   ]
  },
  {
   "cell_type": "code",
   "execution_count": 180,
   "metadata": {
    "colab": {},
    "colab_type": "code",
    "id": "9N4yuj7J_DQP"
   },
   "outputs": [],
   "source": [
    "bin_train_best = np.array([bin_train[:, ind] for ind in words_ind])[:,:, 0].T\n",
    "bin_test_best = np.array([bin_test[:, ind] for ind in words_ind])[:,:,0].T"
   ]
  },
  {
   "cell_type": "code",
   "execution_count": 181,
   "metadata": {
    "colab": {
     "base_uri": "https://localhost:8080/",
     "height": 204
    },
    "colab_type": "code",
    "id": "cRZLuZaU_DQd",
    "outputId": "a894dca6-2eed-46ae-f2e2-eb0b1e3425c6"
   },
   "outputs": [
    {
     "name": "stdout",
     "output_type": "stream",
     "text": [
      "[[1486  276]\n",
      " [ 366  918]]\n",
      "              precision    recall  f1-score   support\n",
      "\n",
      "           0       0.80      0.84      0.82      1762\n",
      "           1       0.77      0.71      0.74      1284\n",
      "\n",
      "    accuracy                           0.79      3046\n",
      "   macro avg       0.79      0.78      0.78      3046\n",
      "weighted avg       0.79      0.79      0.79      3046\n",
      "\n"
     ]
    }
   ],
   "source": [
    "grid = GridSearchCV(estimator=svr, param_grid=parameters, n_jobs=8, scoring=\"f1_macro\", cv=5)\n",
    "grid.fit(bin_train_best,y_train)\n",
    "\n",
    "labels_pred = grid.predict(bin_test_best)\n",
    "\n",
    "print(confusion_matrix(y_test, labels_pred))\n",
    "print(metrics.classification_report(y_test, labels_pred))"
   ]
  },
  {
   "cell_type": "markdown",
   "metadata": {
    "colab_type": "text",
    "id": "_PceEvVQ_DQf"
   },
   "source": [
    "## Concatenate Binary and K-best from Binary"
   ]
  },
  {
   "cell_type": "code",
   "execution_count": 163,
   "metadata": {},
   "outputs": [
    {
     "data": {
      "text/plain": [
       "(4567, 9681)"
      ]
     },
     "execution_count": 163,
     "metadata": {},
     "output_type": "execute_result"
    }
   ],
   "source": [
    "bin_train.shape"
   ]
  },
  {
   "cell_type": "code",
   "execution_count": 164,
   "metadata": {},
   "outputs": [
    {
     "data": {
      "text/plain": [
       "(4567, 1000)"
      ]
     },
     "execution_count": 164,
     "metadata": {},
     "output_type": "execute_result"
    }
   ],
   "source": [
    "bin_train_best.shape"
   ]
  },
  {
   "cell_type": "code",
   "execution_count": 168,
   "metadata": {
    "colab": {},
    "colab_type": "code",
    "id": "LuZQZ73o_DQg"
   },
   "outputs": [],
   "source": [
    "bin_concat_train = np.zeros((bin_train.shape[0], bin_train.shape[1] + bin_train_best.shape[1]))\n",
    "bin_concat_test = np.zeros((bin_test.shape[0], bin_test.shape[1] + bin_test_best.shape[1]))\n",
    "bin_concat_sum = np.zeros((bin_sum.shape[0], bin_sum.shape[1] + bin_sum_best.shape[1]))\n",
    "\n",
    "bin_concat_train[:,0:bin_train.shape[1]] = bin_train\n",
    "bin_concat_train[:, bin_train.shape[1]:] = bin_train_best\n",
    "\n",
    "bin_concat_test[:, 0:bin_test.shape[1]] = bin_test\n",
    "bin_concat_test[:, bin_test.shape[1]:] = bin_test_best"
   ]
  },
  {
   "cell_type": "code",
   "execution_count": 169,
   "metadata": {
    "colab": {
     "base_uri": "https://localhost:8080/",
     "height": 204
    },
    "colab_type": "code",
    "id": "SVvfQfOc_DQz",
    "outputId": "8c6364b3-63ae-45f8-d3f4-8df4dcfb6699"
   },
   "outputs": [
    {
     "name": "stdout",
     "output_type": "stream",
     "text": [
      "[[1501  261]\n",
      " [ 340  944]]\n",
      "              precision    recall  f1-score   support\n",
      "\n",
      "           0       0.82      0.85      0.83      1762\n",
      "           1       0.78      0.74      0.76      1284\n",
      "\n",
      "    accuracy                           0.80      3046\n",
      "   macro avg       0.80      0.79      0.80      3046\n",
      "weighted avg       0.80      0.80      0.80      3046\n",
      "\n"
     ]
    }
   ],
   "source": [
    "grid = GridSearchCV(estimator=svr, param_grid=parameters, n_jobs=8, scoring=\"f1_macro\", cv=5)\n",
    "grid.fit(bin_concat_train,y_train)\n",
    "\n",
    "labels_pred = grid.predict(bin_concat_test)\n",
    "\n",
    "print(confusion_matrix(y_test, labels_pred))\n",
    "print(metrics.classification_report(y_test, labels_pred))"
   ]
  },
  {
   "cell_type": "markdown",
   "metadata": {
    "colab_type": "text",
    "id": "e5VxTqc7_DRu"
   },
   "source": [
    "## Word2Vec\n",
    "\n",
    "- Word2Vec is a group of related models that are used to produce word embeddings. These models are shallow, two-layer neural networks that are trained to reconstruct linguistic contexts of words.\n",
    "- Use Gensim to load pretrained Twitter word vectors from Glove (Global Vectors for Word Representation) then convert GloVe vectors into the word2vec"
   ]
  },
  {
   "cell_type": "code",
   "execution_count": 38,
   "metadata": {
    "colab": {
     "base_uri": "https://localhost:8080/",
     "height": 68
    },
    "colab_type": "code",
    "id": "G3Y_sXko_DRv",
    "outputId": "1cf1351a-d067-4bf4-e5ef-8f5579626b58"
   },
   "outputs": [
    {
     "name": "stderr",
     "output_type": "stream",
     "text": [
      "/srv/conda/envs/saturn/lib/python3.7/site-packages/scipy/sparse/sparsetools.py:21: DeprecationWarning: `scipy.sparse.sparsetools` is deprecated!\n",
      "scipy.sparse.sparsetools is a private module for scipy.sparse, and should not be used.\n",
      "  _deprecated()\n"
     ]
    }
   ],
   "source": [
    "import gensim\n",
    "from gensim.models import KeyedVectors"
   ]
  },
  {
   "cell_type": "code",
   "execution_count": 39,
   "metadata": {
    "colab": {},
    "colab_type": "code",
    "id": "FLp4_lj5_DRx"
   },
   "outputs": [],
   "source": [
    "from gensim.models import Word2Vec\n",
    "from gensim.scripts.glove2word2vec import glove2word2vec\n",
    "from gensim.test.utils import datapath, get_tmpfile"
   ]
  },
  {
   "cell_type": "code",
   "execution_count": 46,
   "metadata": {
    "colab": {},
    "colab_type": "code",
    "id": "GwVG61t-_DSA"
   },
   "outputs": [],
   "source": [
    "path_glove = os.path.abspath('glove.twitter.27B.200d.txt')\n",
    "path_w2v = os.path.abspath('glove.twitter.27B.200d_w2v.txt')"
   ]
  },
  {
   "cell_type": "code",
   "execution_count": 47,
   "metadata": {
    "colab": {
     "base_uri": "https://localhost:8080/",
     "height": 34
    },
    "colab_type": "code",
    "id": "l9QOaCtK_DSO",
    "outputId": "9de0d1bb-e77f-42e1-b040-9aea79b196e0"
   },
   "outputs": [
    {
     "data": {
      "text/plain": [
       "'/home/jovyan/project/Real or Not/glove.twitter.27B.200d_w2v.txt'"
      ]
     },
     "execution_count": 47,
     "metadata": {},
     "output_type": "execute_result"
    }
   ],
   "source": [
    "path_w2v"
   ]
  },
  {
   "cell_type": "code",
   "execution_count": 48,
   "metadata": {
    "colab": {
     "base_uri": "https://localhost:8080/",
     "height": 34
    },
    "colab_type": "code",
    "id": "aVfvhNx1_DSh",
    "outputId": "ab032fae-a310-4cbd-8223-7fc89249e782"
   },
   "outputs": [
    {
     "data": {
      "text/plain": [
       "'glove_file = datapath(path_glove)\\ntmp_file = get_tmpfile(path_w2v)\\n\\n_ = glove2word2vec(glove_file, tmp_file)'"
      ]
     },
     "execution_count": 48,
     "metadata": {},
     "output_type": "execute_result"
    }
   ],
   "source": [
    "'''glove_file = datapath(path_glove)\n",
    "tmp_file = get_tmpfile(path_w2v)\n",
    "\n",
    "_ = glove2word2vec(glove_file, tmp_file)'''"
   ]
  },
  {
   "cell_type": "code",
   "execution_count": 49,
   "metadata": {
    "colab": {},
    "colab_type": "code",
    "id": "KmoY-H-8_DSk"
   },
   "outputs": [],
   "source": [
    "path = os.path.abspath('glove.twitter.27B.200d_w2v.txt')"
   ]
  },
  {
   "cell_type": "code",
   "execution_count": 50,
   "metadata": {
    "colab": {
     "base_uri": "https://localhost:8080/",
     "height": 71
    },
    "colab_type": "code",
    "id": "CmZ18BWF_DSm",
    "outputId": "508f456d-53c2-45fc-a33a-143aefbc5954"
   },
   "outputs": [],
   "source": [
    "model_w2v = KeyedVectors.load_word2vec_format(path, binary=False)"
   ]
  },
  {
   "cell_type": "code",
   "execution_count": 51,
   "metadata": {
    "colab": {},
    "colab_type": "code",
    "id": "Dh5VI3Sa_DSo"
   },
   "outputs": [],
   "source": [
    "from sklearn.feature_selection import SelectKBest, chi2"
   ]
  },
  {
   "cell_type": "markdown",
   "metadata": {},
   "source": [
    "- Use SelectKBest to find the best features. Then find the w2v embedding of these best features\n",
    "- Word2Vec represents vectors of words. In order to find the vector representations of documents, we find the word2vec embedding of important words in one document then take the mean of all of them."
   ]
  },
  {
   "cell_type": "code",
   "execution_count": 52,
   "metadata": {
    "colab": {},
    "colab_type": "code",
    "id": "KQCiB04C_DSq"
   },
   "outputs": [],
   "source": [
    "def build_vector(t_train, best_words):\n",
    "    \n",
    "    w2v = []\n",
    "    \n",
    "    for doc in t_train:\n",
    "                   \n",
    "        mean = 0\n",
    "        count = 0\n",
    "        for word in doc.split():\n",
    "            if word in best_words:\n",
    "                try:\n",
    "                    mean += np.reshape(model[word], (1, 200))\n",
    "                    count +=1\n",
    "                except:\n",
    "                    pass\n",
    "        try:\n",
    "            w2v.append(mean/count)\n",
    "        except:\n",
    "            w2v.append(0)\n",
    "                   \n",
    "    return w2v\n",
    "\n"
   ]
  },
  {
   "cell_type": "code",
   "execution_count": 53,
   "metadata": {
    "colab": {
     "base_uri": "https://localhost:8080/",
     "height": 34
    },
    "colab_type": "code",
    "id": "aE3yu5St_DSr",
    "outputId": "bf87299e-d0ef-4f93-bb39-ff6f8eb48272"
   },
   "outputs": [
    {
     "data": {
      "text/plain": [
       "SelectKBest(k=1000, score_func=<function chi2 at 0x7f74ef696510>)"
      ]
     },
     "execution_count": 53,
     "metadata": {},
     "output_type": "execute_result"
    }
   ],
   "source": [
    "feats = SelectKBest(chi2, k = 1000)\n",
    "feats.fit(tfidf_vectorizer_train, y_train)"
   ]
  },
  {
   "cell_type": "code",
   "execution_count": 54,
   "metadata": {
    "colab": {},
    "colab_type": "code",
    "id": "g9d0higV_DSt"
   },
   "outputs": [],
   "source": [
    "best = feats.get_support(indices=True)\n",
    "train_best = np.array([tfidf_vectorizer_train[:,ind] for ind in best])\n",
    "test_best = np.array([tfidf_vectorizer_test[:,ind] for ind in best])\n"
   ]
  },
  {
   "cell_type": "code",
   "execution_count": 55,
   "metadata": {
    "colab": {},
    "colab_type": "code",
    "id": "ZW35g-V__DS2"
   },
   "outputs": [],
   "source": [
    "words = list(tfidf_vectorizer.vocabulary_.keys())\n",
    "\n",
    "best_words = np.array([words[ind] for ind in best])"
   ]
  },
  {
   "cell_type": "code",
   "execution_count": 56,
   "metadata": {
    "colab": {
     "base_uri": "https://localhost:8080/",
     "height": 51
    },
    "colab_type": "code",
    "id": "uGa0oL8A_DS5",
    "outputId": "4d31d7ad-b3be-419f-cba4-ec9f79b6d1e1"
   },
   "outputs": [
    {
     "name": "stdout",
     "output_type": "stream",
     "text": [
      "(4567, 200)\n",
      "(3046, 200)\n"
     ]
    }
   ],
   "source": [
    "train_w2v = np.array(build_vector(X_train, best_words)) #temporal vectors, to then reshape them\n",
    "test_w2v = np.array(build_vector(X_test, best_words))\n",
    "w2v_train = np.zeros((len(train_w2v), 200)) #reshaped matrices with the information obtained\n",
    "w2v_test = np.zeros((len(test_w2v), 200))\n",
    "for ind in range(len(train_w2v)):\n",
    "    w2v_train[ind, :] = train_w2v[ind]\n",
    "    \n",
    "for ind in range(len(test_w2v)):\n",
    "    w2v_test[ind, :] = test_w2v[ind]\n",
    "print(w2v_train.shape)\n",
    "print(w2v_test.shape)"
   ]
  },
  {
   "cell_type": "code",
   "execution_count": 57,
   "metadata": {
    "colab": {
     "base_uri": "https://localhost:8080/",
     "height": 258
    },
    "colab_type": "code",
    "id": "xixJSyxpYvoI",
    "outputId": "d5393541-d9a6-4eb0-f8bb-fec3e0734c85",
    "scrolled": true
   },
   "outputs": [
    {
     "name": "stdout",
     "output_type": "stream",
     "text": [
      "[[1762    0]\n",
      " [1284    0]]\n",
      "              precision    recall  f1-score   support\n",
      "\n",
      "           0       0.58      1.00      0.73      1762\n",
      "           1       0.00      0.00      0.00      1284\n",
      "\n",
      "    accuracy                           0.58      3046\n",
      "   macro avg       0.29      0.50      0.37      3046\n",
      "weighted avg       0.33      0.58      0.42      3046\n",
      "\n"
     ]
    },
    {
     "name": "stderr",
     "output_type": "stream",
     "text": [
      "/srv/conda/envs/saturn/lib/python3.7/site-packages/sklearn/metrics/classification.py:1437: UndefinedMetricWarning: Precision and F-score are ill-defined and being set to 0.0 in labels with no predicted samples.\n",
      "  'precision', 'predicted', average, warn_for)\n"
     ]
    }
   ],
   "source": [
    "grid = GridSearchCV(estimator=svr, param_grid=parameters, n_jobs=8, scoring=\"f1_macro\", cv=5)\n",
    "grid.fit(w2v_train,y_train)\n",
    "\n",
    "labels_pred = grid.predict(w2v_test)\n",
    "\n",
    "print(confusion_matrix(y_test, labels_pred))\n",
    "print(metrics.classification_report(y_test, labels_pred))"
   ]
  },
  {
   "cell_type": "markdown",
   "metadata": {},
   "source": [
    "F1 score is low. This maybe because w2v mainly represents of semantic of words. Maybe combining sematic representations and bag of words will give a better result?"
   ]
  },
  {
   "cell_type": "markdown",
   "metadata": {
    "colab_type": "text",
    "id": "e7nsB9TMZlhM"
   },
   "source": [
    "## W2V concatenated with binary"
   ]
  },
  {
   "cell_type": "code",
   "execution_count": 58,
   "metadata": {
    "colab": {},
    "colab_type": "code",
    "id": "lyEsiL5FZkYL"
   },
   "outputs": [],
   "source": [
    "w2v_bin_train = np.zeros((w2v_train.shape[0], w2v_train.shape[1] + bin_train.shape[1]))\n",
    "w2v_bin_test = np.zeros((w2v_test.shape[0], w2v_test.shape[1] + bin_test.shape[1]))\n",
    "\n",
    "w2v_bin_train[:, :w2v_train.shape[1]] = w2v_train\n",
    "w2v_bin_train[:, w2v_train.shape[1]:] = bin_train\n",
    "\n",
    "w2v_bin_test[:, :w2v_test.shape[1]] = w2v_test\n",
    "w2v_bin_test[:, w2v_test.shape[1]:] = bin_test"
   ]
  },
  {
   "cell_type": "code",
   "execution_count": 59,
   "metadata": {
    "colab": {
     "base_uri": "https://localhost:8080/",
     "height": 204
    },
    "colab_type": "code",
    "id": "8KZvcqTyazu-",
    "outputId": "ed843abd-a891-4988-cecf-e839c3eefaaa"
   },
   "outputs": [
    {
     "name": "stdout",
     "output_type": "stream",
     "text": [
      "[[1510  252]\n",
      " [ 343  941]]\n",
      "              precision    recall  f1-score   support\n",
      "\n",
      "           0       0.81      0.86      0.84      1762\n",
      "           1       0.79      0.73      0.76      1284\n",
      "\n",
      "    accuracy                           0.80      3046\n",
      "   macro avg       0.80      0.79      0.80      3046\n",
      "weighted avg       0.80      0.80      0.80      3046\n",
      "\n"
     ]
    }
   ],
   "source": [
    "grid = GridSearchCV(estimator=svr, param_grid=parameters, n_jobs=8, scoring=\"f1_macro\", cv=5)\n",
    "grid.fit(w2v_bin_train,y_train)\n",
    "\n",
    "labels_pred = grid.predict(w2v_bin_test)\n",
    "\n",
    "print(confusion_matrix(y_test, labels_pred))\n",
    "print(metrics.classification_report(y_test, labels_pred))"
   ]
  },
  {
   "cell_type": "markdown",
   "metadata": {
    "colab_type": "text",
    "id": "PSijEp7H_DS7"
   },
   "source": [
    "# Neural Network "
   ]
  },
  {
   "cell_type": "markdown",
   "metadata": {},
   "source": [
    "- Use PyTorch to create neural network model"
   ]
  },
  {
   "cell_type": "code",
   "execution_count": 60,
   "metadata": {
    "colab": {},
    "colab_type": "code",
    "id": "ErCFEybM_DS8"
   },
   "outputs": [],
   "source": [
    "import torch\n",
    "import torch.nn.functional as F\n",
    "import torch.nn as nn\n",
    "import torch.optim as optim"
   ]
  },
  {
   "cell_type": "code",
   "execution_count": 61,
   "metadata": {
    "colab": {},
    "colab_type": "code",
    "id": "pLDXy-Mp_DS-"
   },
   "outputs": [],
   "source": [
    "class Model(nn.Module):\n",
    "    def __init__(self, inp):\n",
    "        super(Model, self).__init__()  \n",
    "        #Define the layers\n",
    "        self.Layer1 = nn.Linear(inp, 4000)\n",
    "        self.Layer2 = nn.Linear(4000, 1000)\n",
    "        self.Layer3 = nn.Linear(1000, 100)\n",
    "        self.Layer4 = nn.Linear(100, 2)\n",
    "    def forward(self, x):\n",
    "        x = F.relu(self.Layer1(x))\n",
    "        x = F.relu(self.Layer2(x))\n",
    "        x = F.relu(self.Layer3(x))\n",
    "        m = nn.Dropout(p=0.5)\n",
    "        x = m(x)\n",
    "        x = self.Layer4(x)\n",
    "        return F.log_softmax(x,1)"
   ]
  },
  {
   "cell_type": "code",
   "execution_count": 121,
   "metadata": {
    "colab": {},
    "colab_type": "code",
    "id": "pDlcYnGp_DTA"
   },
   "outputs": [],
   "source": [
    "def get_f1(X, y_real, model):\n",
    "    y_pred = []\n",
    "    for x in X:\n",
    "        y_pred.append(model(x.cuda()).argmax(1).cpu().detach())\n",
    "    y_pred = torch.cat(y_pred).cpu().numpy()\n",
    "    \n",
    "    return metrics.f1_score(y_true=y_real.cpu().numpy(), y_pred=y_pred)"
   ]
  },
  {
   "cell_type": "code",
   "execution_count": 63,
   "metadata": {
    "colab": {},
    "colab_type": "code",
    "id": "kmJK5aWM_DTC"
   },
   "outputs": [],
   "source": [
    "def train_model(model, epochs, Xtrain, ytrain, X_val, y_val):\n",
    "    LOSS = []\n",
    "    X_train = Xtrain.cuda()\n",
    "    y_train = ytrain.cuda()\n",
    "    for e in range(epochs):\n",
    "        for i, (x, y) in enumerate(zip(X_train, y_train)):     \n",
    "\n",
    "            y_pred = model(x)\n",
    "            loss = criterio(y_pred, y)\n",
    "            loss.backward()\n",
    "            optimizer.step()\n",
    "\n",
    "            LOSS.append(loss.item())\n",
    "            if i%100==0:\n",
    "                with torch.no_grad():\n",
    "                    f1 = get_f1(X_val, y_val.cpu(), model)\n",
    "                print('Epoch: %d \\t Batch: %d \\t Loss: %.10f \\t F1_val: %.10f'%(e,i, torch.tensor(LOSS[-100:]).mean(), f1))\n",
    "    return LOSS"
   ]
  },
  {
   "cell_type": "code",
   "execution_count": 182,
   "metadata": {
    "colab": {},
    "colab_type": "code",
    "id": "ycXaeOQX_DTF"
   },
   "outputs": [],
   "source": [
    "#Split the training and test set to batch of 50\n",
    "batch = 50\n",
    "net_train = torch.from_numpy(bin_train[0:4550,:]).float()\n",
    "net_train = net_train.view(-1, batch, net_train.shape[1]).float()\n",
    "\n",
    "net_test = torch.from_numpy(bin_test[:3000,:]).float()\n",
    "net_test = net_test.view(-1, batch, net_test.shape[1]).float()\n",
    "\n",
    "\n",
    "Y_train = torch.tensor(list(y_train)[:4550])\n",
    "Y_train = Y_train.view(-1, batch)\n",
    "\n",
    "Y_test = torch.tensor(list(y_test)[:3000])"
   ]
  },
  {
   "cell_type": "code",
   "execution_count": 65,
   "metadata": {
    "colab": {},
    "colab_type": "code",
    "id": "p1nStnMS_DTH"
   },
   "outputs": [],
   "source": [
    "device = torch.device(\"cuda:0\")\n",
    "model = Model(net_train.shape[2]).to(device)\n",
    "optimizer = optim.Adam(model.parameters(), lr=1e-3)\n",
    "criterio  = nn.NLLLoss()"
   ]
  },
  {
   "cell_type": "code",
   "execution_count": 66,
   "metadata": {
    "colab": {
     "base_uri": "https://localhost:8080/",
     "height": 510
    },
    "colab_type": "code",
    "id": "hsPofKGi_DTK",
    "outputId": "5049bcd2-8c6c-42d5-987f-64da43f23476"
   },
   "outputs": [
    {
     "name": "stderr",
     "output_type": "stream",
     "text": [
      "/srv/conda/envs/saturn/lib/python3.7/site-packages/sklearn/metrics/classification.py:1437: UndefinedMetricWarning: F-score is ill-defined and being set to 0.0 due to no predicted samples.\n",
      "  'precision', 'predicted', average, warn_for)\n"
     ]
    },
    {
     "name": "stdout",
     "output_type": "stream",
     "text": [
      "Epoch: 0 \t Batch: 0 \t Loss: 0.6908555627 \t F1_val: 0.0000000000\n",
      "Epoch: 1 \t Batch: 0 \t Loss: 0.6593646407 \t F1_val: 0.6910435497\n",
      "Epoch: 2 \t Batch: 0 \t Loss: 0.7313510180 \t F1_val: 0.7044734061\n",
      "Epoch: 3 \t Batch: 0 \t Loss: 0.6811176538 \t F1_val: 0.7223183391\n",
      "Epoch: 4 \t Batch: 0 \t Loss: 0.6168192029 \t F1_val: 0.7201350781\n",
      "Epoch: 5 \t Batch: 0 \t Loss: 0.7996495962 \t F1_val: 0.6750362144\n",
      "Epoch: 6 \t Batch: 0 \t Loss: 0.8652065992 \t F1_val: 0.6821852732\n",
      "Epoch: 7 \t Batch: 0 \t Loss: 0.9100013971 \t F1_val: 0.6768642447\n",
      "Epoch: 8 \t Batch: 0 \t Loss: 0.6142103076 \t F1_val: 0.6853080569\n",
      "Epoch: 9 \t Batch: 0 \t Loss: 1.1335546970 \t F1_val: 0.6774500476\n",
      "Epoch: 10 \t Batch: 0 \t Loss: 1.5742430687 \t F1_val: 0.6538461538\n",
      "Epoch: 11 \t Batch: 0 \t Loss: 1.2565995455 \t F1_val: 0.6331811263\n",
      "Epoch: 12 \t Batch: 0 \t Loss: 0.4229889810 \t F1_val: 0.6442211055\n",
      "Epoch: 13 \t Batch: 0 \t Loss: 0.4202293158 \t F1_val: 0.6290983607\n",
      "Epoch: 14 \t Batch: 0 \t Loss: 0.6392421126 \t F1_val: 0.6233367451\n",
      "Epoch: 15 \t Batch: 0 \t Loss: 0.7861397266 \t F1_val: 0.6094154165\n",
      "Epoch: 16 \t Batch: 0 \t Loss: 0.4214900136 \t F1_val: 0.5966386555\n",
      "Epoch: 17 \t Batch: 0 \t Loss: 0.4485547245 \t F1_val: 0.5985324948\n",
      "Epoch: 18 \t Batch: 0 \t Loss: 0.3634476364 \t F1_val: 0.6007326007\n",
      "Epoch: 19 \t Batch: 0 \t Loss: 1.4309848547 \t F1_val: 0.5921610169\n",
      "Epoch: 20 \t Batch: 0 \t Loss: 0.4940257967 \t F1_val: 0.5722011898\n",
      "Epoch: 21 \t Batch: 0 \t Loss: 0.3777514398 \t F1_val: 0.5616139586\n",
      "Epoch: 22 \t Batch: 0 \t Loss: 0.3890890479 \t F1_val: 0.5589041096\n",
      "Epoch: 23 \t Batch: 0 \t Loss: 0.4224165082 \t F1_val: 0.5824411135\n",
      "Epoch: 24 \t Batch: 0 \t Loss: 0.3985182047 \t F1_val: 0.6076081292\n",
      "Epoch: 25 \t Batch: 0 \t Loss: 0.6857522726 \t F1_val: 0.6189495366\n",
      "Epoch: 26 \t Batch: 0 \t Loss: 1.8264399767 \t F1_val: 0.6201947719\n",
      "Epoch: 27 \t Batch: 0 \t Loss: 0.4138142765 \t F1_val: 0.6078328982\n",
      "Epoch: 28 \t Batch: 0 \t Loss: 0.4089501202 \t F1_val: 0.6023206751\n",
      "Epoch: 29 \t Batch: 0 \t Loss: 1.1416289806 \t F1_val: 0.5932203390\n",
      "Epoch: 30 \t Batch: 0 \t Loss: 0.4169364572 \t F1_val: 0.5938494168\n",
      "Epoch: 31 \t Batch: 0 \t Loss: 0.3823783100 \t F1_val: 0.5931034483\n",
      "Epoch: 32 \t Batch: 0 \t Loss: 0.3885582685 \t F1_val: 0.5889243876\n",
      "Epoch: 33 \t Batch: 0 \t Loss: 0.4039119780 \t F1_val: 0.5880469584\n",
      "Epoch: 34 \t Batch: 0 \t Loss: 0.4907850325 \t F1_val: 0.5931842386\n",
      "Epoch: 35 \t Batch: 0 \t Loss: 4.2121648788 \t F1_val: 0.5683179096\n",
      "Epoch: 36 \t Batch: 0 \t Loss: 0.4936636388 \t F1_val: 0.5467706013\n",
      "Epoch: 37 \t Batch: 0 \t Loss: 0.5270624757 \t F1_val: 0.5287485908\n",
      "Epoch: 38 \t Batch: 0 \t Loss: 1.8862679005 \t F1_val: 0.5148741419\n",
      "Epoch: 39 \t Batch: 0 \t Loss: 0.5612953901 \t F1_val: 0.4836065574\n",
      "Epoch: 40 \t Batch: 0 \t Loss: 4.7657585144 \t F1_val: 0.4880046811\n",
      "Epoch: 41 \t Batch: 0 \t Loss: 0.5598965287 \t F1_val: 0.4553624925\n",
      "Epoch: 42 \t Batch: 0 \t Loss: 0.5380871296 \t F1_val: 0.4302254723\n",
      "Epoch: 43 \t Batch: 0 \t Loss: 0.5363151431 \t F1_val: 0.3862068966\n",
      "Epoch: 44 \t Batch: 0 \t Loss: 0.5407288074 \t F1_val: 0.3869346734\n",
      "Epoch: 45 \t Batch: 0 \t Loss: 0.5493773818 \t F1_val: 0.3717377467\n",
      "Epoch: 46 \t Batch: 0 \t Loss: 0.5805380344 \t F1_val: 0.3219895288\n",
      "Epoch: 47 \t Batch: 0 \t Loss: 0.6114158034 \t F1_val: 0.5955056180\n",
      "Epoch: 48 \t Batch: 0 \t Loss: 5.0034599304 \t F1_val: 0.5955056180\n",
      "Epoch: 49 \t Batch: 0 \t Loss: 0.6647406816 \t F1_val: 0.5955056180\n"
     ]
    }
   ],
   "source": [
    "LOSS = train_model(model, 50, net_train, Y_train, net_test, Y_test)"
   ]
  },
  {
   "cell_type": "markdown",
   "metadata": {
    "colab_type": "text",
    "id": "sFnpz5fDgy3-"
   },
   "source": [
    "# Convolutional Neural Network"
   ]
  },
  {
   "cell_type": "code",
   "execution_count": 68,
   "metadata": {
    "colab": {},
    "colab_type": "code",
    "id": "jF4Jqi5byi1E"
   },
   "outputs": [],
   "source": [
    "def text2index(text, vocab):\n",
    "    inds = []\n",
    "    for t in range(len(text)):\n",
    "    doc = []\n",
    "    for word in text[t].split():\n",
    "        try:\n",
    "        doc.append(voc.index(word))\n",
    "        except:\n",
    "        pass\n",
    "    inds.append(doc)\n",
    "    \n",
    "    return inds"
   ]
  },
  {
   "cell_type": "code",
   "execution_count": 69,
   "metadata": {
    "colab": {
     "base_uri": "https://localhost:8080/"
    },
    "colab_type": "code",
    "id": "jc1_4dOSmvd-",
    "outputId": "70f53176-f3c4-4065-86db-405e4b7b5543"
   },
   "outputs": [],
   "source": [
    "voc = list(vectorizer.vocabulary_)\n",
    "x_train = text2index(list(X_train)[:4550], voc)\n",
    "x_test = text2index(list(X_test)[:3000], voc)"
   ]
  },
  {
   "cell_type": "code",
   "execution_count": 70,
   "metadata": {
    "colab": {},
    "colab_type": "code",
    "id": "dvAwEnTb9ncb"
   },
   "outputs": [],
   "source": [
    "import torch\n",
    "from torch import nn"
   ]
  },
  {
   "cell_type": "code",
   "execution_count": 88,
   "metadata": {
    "colab": {
     "base_uri": "https://localhost:8080/"
    },
    "colab_type": "code",
    "id": "GBbD2cW1zG5G",
    "outputId": "14d0d80a-4ad6-41dc-cbfb-9075c41d6dd0"
   },
   "outputs": [
    {
     "name": "stderr",
     "output_type": "stream",
     "text": [
      "/srv/conda/envs/saturn/lib/python3.7/site-packages/ipykernel_launcher.py:3: UserWarning: To copy construct from a tensor, it is recommended to use sourceTensor.clone().detach() or sourceTensor.clone().detach().requires_grad_(True), rather than torch.tensor(sourceTensor).\n",
      "  This is separate from the ipykernel package so we can avoid doing imports until\n",
      "/srv/conda/envs/saturn/lib/python3.7/site-packages/ipykernel_launcher.py:8: UserWarning: To copy construct from a tensor, it is recommended to use sourceTensor.clone().detach() or sourceTensor.clone().detach().requires_grad_(True), rather than torch.tensor(sourceTensor).\n",
      "  \n"
     ]
    }
   ],
   "source": [
    "batch_size = 50\n",
    "\n",
    "x_train = [torch.tensor(x) for x in x_train]\n",
    "X_train = nn.utils.rnn.pad_sequence(x_train, batch_first=True, padding_value=0).long()\n",
    "X_train.shape\n",
    "X_train = X_train.view(-1, batch_size, X_train.shape[1])\n",
    "\n",
    "x_test = [torch.tensor(x) for x in x_test]\n",
    "X_test = nn.utils.rnn.pad_sequence(x_test, batch_first=True, padding_value=0,).long()\n",
    "X_test  = X_test.view(-1, batch_size, X_test.shape[1])\n",
    "\n",
    "len_voc = (max(X_train.max(), X_test.max())+1).item()\n",
    "type(len_voc)\n",
    "\n",
    "Y_train = torch.tensor(list(y_train[:4550])).view(-1, batch_size)\n",
    "Y_test = torch.tensor(list(y_test[:3000])).cuda()"
   ]
  },
  {
   "cell_type": "code",
   "execution_count": 72,
   "metadata": {
    "colab": {},
    "colab_type": "code",
    "id": "Jsh6N2LH0FPH"
   },
   "outputs": [
    {
     "data": {
      "text/plain": [
       "torch.Size([91, 50])"
      ]
     },
     "execution_count": 72,
     "metadata": {},
     "output_type": "execute_result"
    }
   ],
   "source": [
    "Y_train.shape"
   ]
  },
  {
   "cell_type": "code",
   "execution_count": 73,
   "metadata": {
    "colab": {},
    "colab_type": "code",
    "id": "zBKAMwgFzthF"
   },
   "outputs": [
    {
     "name": "stdout",
     "output_type": "stream",
     "text": [
      "9680\n"
     ]
    }
   ],
   "source": [
    "print(len_voc)"
   ]
  },
  {
   "cell_type": "code",
   "execution_count": 100,
   "metadata": {
    "colab": {},
    "colab_type": "code",
    "id": "ijYApekJg1x8"
   },
   "outputs": [],
   "source": [
    "import torch\n",
    "import torch.nn.functional as F\n",
    "import torch.nn as nn\n",
    "import torch.optim as optim\n",
    "from sklearn import metrics\n",
    "\n",
    "class Model(nn.Module):\n",
    "    def __init__(self, len_voc):\n",
    "        super(Model, self).__init__()\n",
    "        self.drop = nn.Dropout(0.5)\n",
    "        self.embeddings = nn.Embedding(len_voc, 100)\n",
    "        self.cnn = nn.Conv2d(1, 100, (3, 100))\n",
    "        self.clf = nn.Linear(100, 2)\n",
    "\n",
    "    def forward(self, x):\n",
    "        x = self.embeddings(x)\n",
    "        x = x.unsqueeze(1)\n",
    "        x = self.cnn(x)\n",
    "        x = x.max(2)[0].squeeze(2)\n",
    "        x = F.relu(x) \n",
    "        #x = self.drop(x)\n",
    "        x = self.clf(x)\n",
    "        return F.log_softmax(x, 1)"
   ]
  },
  {
   "cell_type": "code",
   "execution_count": 106,
   "metadata": {
    "colab": {},
    "colab_type": "code",
    "id": "so7kSSmJg2C7"
   },
   "outputs": [],
   "source": [
    "model = Model(len_voc).cuda()\n",
    "optimizer = optim.Adam(model.parameters(), lr=1e-5)\n",
    "criterio  = nn.NLLLoss()"
   ]
  },
  {
   "cell_type": "code",
   "execution_count": 114,
   "metadata": {
    "colab": {},
    "colab_type": "code",
    "id": "GENmZmGPg2SN"
   },
   "outputs": [
    {
     "name": "stdout",
     "output_type": "stream",
     "text": [
      "Epoch: 0 \t Batch: 0 \t Loss: 0.7272968888 \t F1_val: 0.5854700855\n",
      "Epoch: 1 \t Batch: 0 \t Loss: 0.6933086514 \t F1_val: 0.2840778923\n",
      "Epoch: 2 \t Batch: 0 \t Loss: 0.6708566546 \t F1_val: 0.0676691729\n",
      "Epoch: 3 \t Batch: 0 \t Loss: 0.6597657204 \t F1_val: 0.2624434389\n",
      "Epoch: 4 \t Batch: 0 \t Loss: 0.6279397011 \t F1_val: 0.5860862806\n",
      "Epoch: 5 \t Batch: 0 \t Loss: 0.6206777692 \t F1_val: 0.6181184669\n",
      "Epoch: 6 \t Batch: 0 \t Loss: 0.5997678638 \t F1_val: 0.5831858407\n",
      "Epoch: 7 \t Batch: 0 \t Loss: 0.5754185319 \t F1_val: 0.4136310223\n",
      "Epoch: 8 \t Batch: 0 \t Loss: 0.5691158175 \t F1_val: 0.3873325213\n",
      "Epoch: 9 \t Batch: 0 \t Loss: 0.5499871373 \t F1_val: 0.5446293495\n",
      "Epoch: 10 \t Batch: 0 \t Loss: 0.5276023746 \t F1_val: 0.6330814442\n",
      "Epoch: 11 \t Batch: 0 \t Loss: 0.5176726580 \t F1_val: 0.6438947782\n",
      "Epoch: 12 \t Batch: 0 \t Loss: 0.5028102398 \t F1_val: 0.6443064182\n",
      "Epoch: 13 \t Batch: 0 \t Loss: 0.4815537333 \t F1_val: 0.6117969822\n",
      "Epoch: 14 \t Batch: 0 \t Loss: 0.4663649499 \t F1_val: 0.5905319668\n",
      "Epoch: 15 \t Batch: 0 \t Loss: 0.4551931322 \t F1_val: 0.5920859795\n",
      "Epoch: 16 \t Batch: 0 \t Loss: 0.4391144514 \t F1_val: 0.6135198135\n",
      "Epoch: 17 \t Batch: 0 \t Loss: 0.4211490750 \t F1_val: 0.6385751520\n",
      "Epoch: 18 \t Batch: 0 \t Loss: 0.4072169960 \t F1_val: 0.6502504174\n",
      "Epoch: 19 \t Batch: 0 \t Loss: 0.3946953118 \t F1_val: 0.6556291391\n"
     ]
    }
   ],
   "source": [
    "epochs = 20\n",
    "LOSS = []\n",
    "for e in range(epochs):\n",
    "    for i, (x, y) in enumerate(zip(X_train, Y_train)):\n",
    "        \n",
    "        x = x.cuda()\n",
    "        y = y.cuda()\n",
    "        y_pred = model(x)\n",
    "        \n",
    "        loss = criterio(y_pred, y)\n",
    "        loss.backward()\n",
    "        optimizer.step()\n",
    "        \n",
    "        LOSS.append(loss.item())\n",
    "        if i%200==0:\n",
    "            with torch.no_grad():\n",
    "                f1 = get_f1(X_test, Y_test, model)\n",
    "            print('Epoch: %d \\t Batch: %d \\t Loss: %.10f \\t F1_val: %.10f'%(e,i, torch.tensor(LOSS[-100:]).mean(), f1))"
   ]
  },
  {
   "cell_type": "markdown",
   "metadata": {
    "colab_type": "text",
    "id": "L9vhYO4CrFtF"
   },
   "source": [
    "## Word2Vec Embedding\n",
    "\n",
    "Instead of starting with random embedding, we can alternatively start with word2vec embedding "
   ]
  },
  {
   "cell_type": "code",
   "execution_count": 79,
   "metadata": {
    "colab": {},
    "colab_type": "code",
    "id": "tzC2tXSq_DTP"
   },
   "outputs": [
    {
     "name": "stderr",
     "output_type": "stream",
     "text": [
      "/srv/conda/envs/saturn/lib/python3.7/site-packages/smart_open/smart_open_lib.py:398: UserWarning: This function is deprecated, use smart_open.open instead. See the migration notes for details: https://github.com/RaRe-Technologies/smart_open/blob/master/README.rst#migrating-to-the-new-open-function\n",
      "  'See the migration notes for details: %s' % _MIGRATION_NOTES_URL\n"
     ]
    }
   ],
   "source": [
    "from gensim.scripts.glove2word2vec import glove2word2vec\n",
    "from gensim.test.utils import datapath, get_tmpfile\n",
    "from gensim.models import KeyedVectors\n",
    "\n",
    "import os\n",
    "path_w2v=os.path.abspath('glove.twitter.27B.200d_w2v.txt') \n",
    "embed_lookup = KeyedVectors.load_word2vec_format(path_w2v) \n"
   ]
  },
  {
   "cell_type": "code",
   "execution_count": 80,
   "metadata": {
    "colab": {},
    "colab_type": "code",
    "id": "jAL-vLJ5_DTS"
   },
   "outputs": [],
   "source": [
    "weights = torch.FloatTensor(embed_lookup.vectors)\n",
    "embeddings = nn.Embedding.from_pretrained(weights, padding_idx=embed_lookup.vocab[\"<space>\"].index)"
   ]
  },
  {
   "cell_type": "code",
   "execution_count": 116,
   "metadata": {
    "colab": {},
    "colab_type": "code",
    "id": "Ns2-pLNRtSUZ"
   },
   "outputs": [],
   "source": [
    "class ModelW2V(nn.Module):\n",
    "    def __init__(self, len_voc, init_embedding):\n",
    "        super(ModelW2V, self).__init__()\n",
    "        self.drop = nn.Dropout(0.5)\n",
    "        self.embeddings = init_embedding\n",
    "        self.embeddings.weight.requires_grad = False\n",
    "        self.cnn1 = nn.Conv2d(1, 100, (3, 200))\n",
    "        self.cnn2 = nn.Conv2d(1, 100, (4, 200))\n",
    "        self.cnn3 = nn.Conv2d(1, 100, (5, 200))\n",
    "        self.clf = nn.Linear(300, 2)\n",
    "\n",
    "    def forward(self, x):\n",
    "        x = self.embeddings(x)\n",
    "        x = x.unsqueeze(1)\n",
    "        #print(x.shape)\n",
    "\n",
    "        x1 = self.cnn1(x)\n",
    "        #print(x1.shape)\n",
    "        x1 = x1.max(2)[0].squeeze(2)\n",
    "\n",
    "        x2 = self.cnn2(x)\n",
    "        x2 = x2.max(2)[0].squeeze(2)\n",
    "\n",
    "        x3 = self.cnn3(x)\n",
    "        x3 = x3.max(2)[0].squeeze(2)\n",
    "\n",
    "        x = torch.cat([x1,x2,x3],1)\n",
    "\n",
    "        x = F.relu(x) \n",
    "        #x = self.drop(x)\n",
    "        x = self.clf(x)\n",
    "        return F.log_softmax(x, 1)"
   ]
  },
  {
   "cell_type": "code",
   "execution_count": 117,
   "metadata": {
    "colab": {},
    "colab_type": "code",
    "id": "SfDgkwD43SJs"
   },
   "outputs": [],
   "source": [
    "model_w2v = ModelW2V(len_voc, embeddings).cuda()\n",
    "optimizer = optim.Adam(model_w2v.parameters(), lr=1e-4)\n",
    "criterio  = nn.NLLLoss()"
   ]
  },
  {
   "cell_type": "code",
   "execution_count": 118,
   "metadata": {
    "colab": {},
    "colab_type": "code",
    "id": "5XlkoSS4qrKi"
   },
   "outputs": [
    {
     "name": "stdout",
     "output_type": "stream",
     "text": [
      "torch.Size([50, 23])\n"
     ]
    }
   ],
   "source": [
    "print(X_train[0].shape)"
   ]
  },
  {
   "cell_type": "code",
   "execution_count": 119,
   "metadata": {
    "colab": {},
    "colab_type": "code",
    "id": "Sm27QdRqqEVk"
   },
   "outputs": [
    {
     "data": {
      "text/plain": [
       "tensor([[-0.8539, -0.5547],\n",
       "        [-0.9280, -0.5031],\n",
       "        [-0.8436, -0.5624],\n",
       "        [-0.7707, -0.6212],\n",
       "        [-0.7900, -0.6049],\n",
       "        [-0.6958, -0.6905],\n",
       "        [-0.8271, -0.5751],\n",
       "        [-0.7647, -0.6264],\n",
       "        [-0.7614, -0.6293],\n",
       "        [-0.7748, -0.6177],\n",
       "        [-0.9176, -0.5100],\n",
       "        [-0.7648, -0.6263],\n",
       "        [-0.7852, -0.6089],\n",
       "        [-0.7177, -0.6692],\n",
       "        [-0.7667, -0.6246],\n",
       "        [-0.7184, -0.6685],\n",
       "        [-0.6969, -0.6894],\n",
       "        [-0.8736, -0.5403],\n",
       "        [-0.8047, -0.5928],\n",
       "        [-0.8236, -0.5778],\n",
       "        [-0.7453, -0.6436],\n",
       "        [-0.8222, -0.5789],\n",
       "        [-0.7259, -0.6614],\n",
       "        [-0.8134, -0.5858],\n",
       "        [-0.7539, -0.6359],\n",
       "        [-0.7893, -0.6054],\n",
       "        [-0.8425, -0.5632],\n",
       "        [-0.7911, -0.6039],\n",
       "        [-0.7230, -0.6641],\n",
       "        [-0.7890, -0.6057],\n",
       "        [-0.7584, -0.6319],\n",
       "        [-0.7652, -0.6260],\n",
       "        [-0.7874, -0.6070],\n",
       "        [-0.7152, -0.6716],\n",
       "        [-0.7693, -0.6224],\n",
       "        [-0.7896, -0.6051],\n",
       "        [-0.7967, -0.5993],\n",
       "        [-0.7962, -0.5997],\n",
       "        [-0.7310, -0.6567],\n",
       "        [-0.6512, -0.7369],\n",
       "        [-0.8991, -0.5224],\n",
       "        [-0.8764, -0.5384],\n",
       "        [-0.7405, -0.6479],\n",
       "        [-0.9067, -0.5173],\n",
       "        [-0.8104, -0.5882],\n",
       "        [-0.9350, -0.4985],\n",
       "        [-0.7495, -0.6398],\n",
       "        [-0.6870, -0.6994],\n",
       "        [-0.6807, -0.7058],\n",
       "        [-0.6806, -0.7059]], device='cuda:0', grad_fn=<LogSoftmaxBackward>)"
      ]
     },
     "execution_count": 119,
     "metadata": {},
     "output_type": "execute_result"
    }
   ],
   "source": [
    "model_w2v(X_train[0].cuda())"
   ]
  },
  {
   "cell_type": "code",
   "execution_count": 122,
   "metadata": {
    "colab": {},
    "colab_type": "code",
    "id": "IPqWuaBgt8XA"
   },
   "outputs": [
    {
     "name": "stdout",
     "output_type": "stream",
     "text": [
      "Epoch: 0 \t Batch: 0 \t Loss: 0.6944720745 \t F1_val: 0.5031446541\n",
      "Epoch: 1 \t Batch: 0 \t Loss: 0.6624437571 \t F1_val: 0.4167610419\n",
      "Epoch: 2 \t Batch: 0 \t Loss: 0.6180655360 \t F1_val: 0.5101721440\n",
      "Epoch: 3 \t Batch: 0 \t Loss: 0.5795461535 \t F1_val: 0.5519677094\n",
      "Epoch: 4 \t Batch: 0 \t Loss: 0.5419302583 \t F1_val: 0.5873786408\n",
      "Epoch: 5 \t Batch: 0 \t Loss: 0.5047081709 \t F1_val: 0.6112423240\n",
      "Epoch: 6 \t Batch: 0 \t Loss: 0.4683764577 \t F1_val: 0.6266173752\n",
      "Epoch: 7 \t Batch: 0 \t Loss: 0.4332748353 \t F1_val: 0.6380255941\n",
      "Epoch: 8 \t Batch: 0 \t Loss: 0.3996908069 \t F1_val: 0.6454834317\n",
      "Epoch: 9 \t Batch: 0 \t Loss: 0.3679221869 \t F1_val: 0.6507004067\n",
      "Epoch: 10 \t Batch: 0 \t Loss: 0.3381090164 \t F1_val: 0.6550335570\n",
      "Epoch: 11 \t Batch: 0 \t Loss: 0.3103032410 \t F1_val: 0.6625332152\n",
      "Epoch: 12 \t Batch: 0 \t Loss: 0.2845363617 \t F1_val: 0.6646072374\n",
      "Epoch: 13 \t Batch: 0 \t Loss: 0.2607834637 \t F1_val: 0.6666666667\n",
      "Epoch: 14 \t Batch: 0 \t Loss: 0.2390759438 \t F1_val: 0.6672512056\n",
      "Epoch: 15 \t Batch: 0 \t Loss: 0.2193181366 \t F1_val: 0.6675404107\n",
      "Epoch: 16 \t Batch: 0 \t Loss: 0.2014482468 \t F1_val: 0.6678306416\n",
      "Epoch: 17 \t Batch: 0 \t Loss: 0.1853471994 \t F1_val: 0.6681203663\n",
      "Epoch: 18 \t Batch: 0 \t Loss: 0.1709207892 \t F1_val: 0.6710239651\n",
      "Epoch: 19 \t Batch: 0 \t Loss: 0.1580023915 \t F1_val: 0.6704495853\n",
      "Epoch: 20 \t Batch: 0 \t Loss: 0.1464747936 \t F1_val: 0.6687036229\n",
      "Epoch: 21 \t Batch: 0 \t Loss: 0.1362195313 \t F1_val: 0.6698731963\n",
      "Epoch: 22 \t Batch: 0 \t Loss: 0.1271017790 \t F1_val: 0.6704645048\n",
      "Epoch: 23 \t Batch: 0 \t Loss: 0.1189799234 \t F1_val: 0.6719298246\n",
      "Epoch: 24 \t Batch: 0 \t Loss: 0.1117635518 \t F1_val: 0.6731192257\n",
      "Epoch: 25 \t Batch: 0 \t Loss: 0.1053282768 \t F1_val: 0.6743058616\n",
      "Epoch: 26 \t Batch: 0 \t Loss: 0.0996318832 \t F1_val: 0.6728476821\n",
      "Epoch: 27 \t Batch: 0 \t Loss: 0.0945239663 \t F1_val: 0.6716814159\n",
      "Epoch: 28 \t Batch: 0 \t Loss: 0.0899859220 \t F1_val: 0.6707964602\n",
      "Epoch: 29 \t Batch: 0 \t Loss: 0.0859409422 \t F1_val: 0.6690296854\n",
      "Epoch: 30 \t Batch: 0 \t Loss: 0.0822927877 \t F1_val: 0.6687361419\n",
      "Epoch: 31 \t Batch: 0 \t Loss: 0.0790681466 \t F1_val: 0.6693297825\n",
      "Epoch: 32 \t Batch: 0 \t Loss: 0.0761426017 \t F1_val: 0.6699201420\n",
      "Epoch: 33 \t Batch: 0 \t Loss: 0.0735337511 \t F1_val: 0.6702174878\n",
      "Epoch: 34 \t Batch: 0 \t Loss: 0.0711809322 \t F1_val: 0.6687361419\n",
      "Epoch: 35 \t Batch: 0 \t Loss: 0.0690431148 \t F1_val: 0.6678492239\n",
      "Epoch: 36 \t Batch: 0 \t Loss: 0.0671070740 \t F1_val: 0.6654882899\n",
      "Epoch: 37 \t Batch: 0 \t Loss: 0.0653559044 \t F1_val: 0.6648983201\n",
      "Epoch: 38 \t Batch: 0 \t Loss: 0.0637814924 \t F1_val: 0.6663712893\n",
      "Epoch: 39 \t Batch: 0 \t Loss: 0.0623301268 \t F1_val: 0.6657813192\n",
      "Epoch: 40 \t Batch: 0 \t Loss: 0.0610008799 \t F1_val: 0.6657801418\n",
      "Epoch: 41 \t Batch: 0 \t Loss: 0.0597548634 \t F1_val: 0.6640035508\n",
      "Epoch: 42 \t Batch: 0 \t Loss: 0.0586477742 \t F1_val: 0.6648936170\n",
      "Epoch: 43 \t Batch: 0 \t Loss: 0.0576286018 \t F1_val: 0.6654851573\n",
      "Epoch: 44 \t Batch: 0 \t Loss: 0.0566605106 \t F1_val: 0.6648959717\n",
      "Epoch: 45 \t Batch: 0 \t Loss: 0.0557505749 \t F1_val: 0.6654851573\n",
      "Epoch: 46 \t Batch: 0 \t Loss: 0.0549434721 \t F1_val: 0.6648959717\n",
      "Epoch: 47 \t Batch: 0 \t Loss: 0.0541682281 \t F1_val: 0.6646017699\n",
      "Epoch: 48 \t Batch: 0 \t Loss: 0.0534307621 \t F1_val: 0.6640106242\n",
      "Epoch: 49 \t Batch: 0 \t Loss: 0.0527576022 \t F1_val: 0.6640106242\n"
     ]
    }
   ],
   "source": [
    "epochs = 50\n",
    "LOSS = []\n",
    "for e in range(epochs):\n",
    "    for i, (x, y) in enumerate(zip(X_train, Y_train)):\n",
    "        \n",
    "        x = x.cuda()\n",
    "        y = y.cuda()\n",
    "        optimizer.zero_grad()\n",
    "        y_pred = model_w2v(x)\n",
    "        \n",
    "        loss = criterio(y_pred, y)\n",
    "        loss.backward()\n",
    "        optimizer.step()\n",
    "        \n",
    "        LOSS.append(loss.item())\n",
    "        if i%200==0:\n",
    "            with torch.no_grad():\n",
    "                f1 = get_f1(X_test, Y_test, model_w2v)\n",
    "            print('Epoch: %d \\t Batch: %d \\t Loss: %.10f \\t F1_val: %.10f'%(e,i, torch.tensor(LOSS[-100:]).mean(), f1))"
   ]
  }
 ],
 "metadata": {
  "accelerator": "GPU",
  "colab": {
   "collapsed_sections": [],
   "name": "NLP Real or Not-2.ipynb",
   "provenance": []
  },
  "kernelspec": {
   "display_name": "Python 3",
   "language": "python",
   "name": "python3"
  },
  "language_info": {
   "codemirror_mode": {
    "name": "ipython",
    "version": 3
   },
   "file_extension": ".py",
   "mimetype": "text/x-python",
   "name": "python",
   "nbconvert_exporter": "python",
   "pygments_lexer": "ipython3",
   "version": "3.7.3"
  }
 },
 "nbformat": 4,
 "nbformat_minor": 1
}
